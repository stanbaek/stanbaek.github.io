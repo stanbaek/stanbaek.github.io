{
 "cells": [
  {
   "cell_type": "markdown",
   "id": "edfba5c0",
   "metadata": {},
   "source": [
    "# ECE387 ICE 1: Introduction to Python3 \n",
    "---\n",
    "### A note on this document\n",
    "This document is known as a Jupyter notebook; it is used in academia and industry to allow text and executable code to coexist in a very easy to read format. Blocks can contain text or code, and for blocks containing code, press `Shift + Enter` to run the code. Earlier blocks of code need to be run for the later blocks of code to work."
   ]
  },
  {
   "cell_type": "markdown",
   "id": "b454075b",
   "metadata": {},
   "source": [
    "### Purpose\n",
    "This in-class exercise (ICE) will introduce Python3 fundamentals through application. "
   ]
  },
  {
   "cell_type": "markdown",
   "id": "cde995db",
   "metadata": {},
   "source": [
    "# Running Python"
   ]
  },
  {
   "cell_type": "markdown",
   "id": "924d6e93",
   "metadata": {},
   "source": [
    "### Running Python in Command Prompt (or Terminal for Mac)\n",
    "\n",
    "Open Windows Terminal (or Terminal for Mac) and run `python` in Windows or `python3` in Mac. \n",
    "<div>\n",
    "<br>\n",
    "    <img src=\"figs/Terminal.png\" width=\"450\"/>\n",
    "</div>\n",
    "\n",
    "This will open the Python Shell. The Shell is where you can enter code and see the responses and output of code you have programmed into Python.  This is a kind of sandbox, where you're able to try out some simple code and processes. For example, in the Shell enter: `2+2`.  If you press enter, it will display the answer `4` on the next line. \n",
    "Try the following code in the Shell.  You can also select the following cell and press `Shift+Enter` to run the code in the cell, but unlike the Shell, it will only display the output of the last line in the cell.   "
   ]
  },
  {
   "cell_type": "code",
   "execution_count": 1,
   "id": "9009e596",
   "metadata": {
    "scrolled": true
   },
   "outputs": [
    {
     "name": "stdout",
     "output_type": "stream",
     "text": [
      "2\n"
     ]
    }
   ],
   "source": [
    "2+3\n",
    "\"hello\"+\" world\"\n",
    "a = 2\n",
    "print(a)"
   ]
  },
  {
   "cell_type": "markdown",
   "id": "87c686c7",
   "metadata": {},
   "source": [
    "The Python Shell acts very much like a calculator since code is basically a series of mathematical interactions with the system.  Try the follownig code"
   ]
  },
  {
   "cell_type": "code",
   "execution_count": 2,
   "id": "9da7a874",
   "metadata": {},
   "outputs": [
    {
     "data": {
      "text/plain": [
       "1"
      ]
     },
     "execution_count": 2,
     "metadata": {},
     "output_type": "execute_result"
    }
   ],
   "source": [
    "2+2    # add two integers\n",
    "2+2.0  # add an integer to a floating point number\n",
    "2*3    # 2 times 3\n",
    "2**2   # 2 squared\n",
    "2**3   # 2 cubed\n",
    "2**128 # Unlike C, integers in Python does not have a size limitation.    \n",
    "2/3    # It returns 1 in C. \n",
    "2/3.0\n",
    "2//3   # modulo\n",
    "4//3   # modulo"
   ]
  },
  {
   "cell_type": "markdown",
   "id": "7ef24a7e",
   "metadata": {},
   "source": [
    "Now enter `exit()` to leave the Python Shell."
   ]
  },
  {
   "cell_type": "code",
   "execution_count": 3,
   "id": "c8a9e1b9",
   "metadata": {},
   "outputs": [],
   "source": [
    "exit()"
   ]
  },
  {
   "cell_type": "markdown",
   "id": "ba6f0cb4",
   "metadata": {},
   "source": [
    "### Saving and Executing Your Code\n",
    "While working in the Shell is perfectly fine for small code snippets, it is not desirable for longer program listings. In this section, we will save a code as a text file and execute it from Terminal. First, open a text editor such as notepad, notepad++, atom, sublime_text, etc.  Enter the following code"
   ]
  },
  {
   "cell_type": "code",
   "execution_count": 1,
   "id": "61b59fbc",
   "metadata": {},
   "outputs": [
    {
     "name": "stdout",
     "output_type": "stream",
     "text": [
      "Python is cool\n",
      "Pythoniscool\n"
     ]
    }
   ],
   "source": [
    "a = \"Python\"\n",
    "b = \"is\"\n",
    "c = \"cool\"\n",
    "print(a,b,c)\n",
    "print(a+b+c)"
   ]
  },
  {
   "cell_type": "markdown",
   "id": "f3184dd1",
   "metadata": {},
   "source": [
    "Save the file as `hello.py` and exit.  Execute the code with the following command in Terminal.  **Do not include the exclamation mark at the beginning**"
   ]
  },
  {
   "cell_type": "code",
   "execution_count": null,
   "id": "3103db62",
   "metadata": {},
   "outputs": [],
   "source": [
    "!python hello.py"
   ]
  },
  {
   "cell_type": "markdown",
   "id": "354539cc",
   "metadata": {},
   "source": [
    "### Executing Code in PyCharm Console\n",
    "Open PyCharm and click Python Consol at the bottom. This is a Python Shell embedded in PyCharm.\n",
    "<div>\n",
    "<br>\n",
    "    <img src=\"figs/PycharmPythonConsole.png\" width=\"600\"/>\n",
    "</div>\n",
    "\n",
    "Try the following code"
   ]
  },
  {
   "cell_type": "code",
   "execution_count": null,
   "id": "8e63bc1f",
   "metadata": {},
   "outputs": [],
   "source": [
    "2+2\n",
    "print(2+2)\n",
    "print(\"2+2\")\n",
    "a = 1\n",
    "b = 2\n",
    "print(a+b)\n",
    "'Hello ' + 'world'"
   ]
  },
  {
   "cell_type": "markdown",
   "id": "8132e734",
   "metadata": {},
   "source": [
    "### Executing Code in PyCharm Terminal\n",
    "\n",
    "Click on Python Terminal at the bottom. This is a Terminal embedded in PyCharm.\n",
    "\n",
    "<div>\n",
    "<br>\n",
    "    <img src=\"figs/PycharmPythonTerminal.png\" width=\"600\"/>\n",
    "</div>\n",
    "\n",
    "Enter the following into the command line:"
   ]
  },
  {
   "cell_type": "code",
   "execution_count": null,
   "id": "04f3cfe7",
   "metadata": {},
   "outputs": [],
   "source": [
    "!python hello.py"
   ]
  },
  {
   "cell_type": "markdown",
   "id": "e4186484",
   "metadata": {},
   "source": [
    "### Executing Code in PyCharm IDE\n",
    "\n",
    "Ensure `main` is selected as shown below.  Click the Run button or `Shift F10` to run the code.    \n",
    "\n",
    "<div>\n",
    "<br>\n",
    "    <img src=\"figs/PycharmRunningCode.png\" width=\"600\"/>\n",
    "</div>\n",
    "\n",
    "It will print `Hi, PyCharm`.\n",
    "\n",
    "Another thing to note is we can make comments in python by starting a line with `#`. Comments are lines in your code that do not perform any function and are intended only to inform others (and your future self) about the purpose of your code. It is a good idea to document the purpose of your code at the beginning of the code with comments and to leave short and concise comments throughout your code. Many people get lazy and fail to comment their code, but don't fall prey to that trap! \n",
    "\n",
    "Use the hash symbol `#` to comment out a line of code.  You can use three single or double quotes to comment out multiple lines. For example, "
   ]
  },
  {
   "cell_type": "code",
   "execution_count": null,
   "id": "eb4f4507",
   "metadata": {},
   "outputs": [],
   "source": [
    "# Set a to 10\n",
    "a = 10\n",
    "# print a\n",
    "print(a)\n",
    "'''\n",
    "Use three single quotes to comment out a block of code\n",
    "'''\n",
    "\"\"\"\n",
    "You can also use three double quotes.\n",
    "\"\"\""
   ]
  },
  {
   "cell_type": "markdown",
   "id": "51abec28",
   "metadata": {},
   "source": [
    "# Debugging Python"
   ]
  },
  {
   "cell_type": "markdown",
   "id": "8487c516",
   "metadata": {},
   "source": [
    "Clikc View > Appearance > Toolbar as shown below\n",
    " \n",
    "<div>\n",
    "    <img src=\"figs/PycharmToolbar.png\" width=\"450\"/>\n",
    "</div>\n",
    " \n",
    "The most important tools in programming, namely **debugger**, will appear!\n",
    " \n",
    "<div>\n",
    "    <img src=\"figs/PycharmDebuggingTools.png\" width=\"450\"/>\n",
    "</div>\n",
    " \n",
    "Click the space between line number 9 and the code to place a breakpoint. Click the Debug button or `Shift F9` to start debugging. \n",
    "\n",
    " \n",
    "<div>\n",
    "    <img src=\"figs/PycharmBreakpoint.png\" width=\"550\"/>\n",
    "</div>\n",
    "\n",
    "In the `Debugger` window, you can find the `name` variable with its value `PyCharm`\n",
    "\n",
    "Click the `Console` tab and enter `name`.  It will display the value of `name`.\n",
    " \n",
    "<div>\n",
    "    <img src=\"figs/PycharmDebugConsole.png\" width=\"550\"/>\n",
    "</div>"
   ]
  },
  {
   "cell_type": "markdown",
   "id": "771ba209",
   "metadata": {},
   "source": [
    "# Python Programming"
   ]
  },
  {
   "cell_type": "markdown",
   "id": "c65c28e0",
   "metadata": {},
   "source": [
    "### Numbers and Expressions\n",
    "\n",
    "Try the  following code in Python Console."
   ]
  },
  {
   "cell_type": "code",
   "execution_count": null,
   "id": "18ff272f",
   "metadata": {},
   "outputs": [],
   "source": [
    "2+2\n",
    "2+2.0\n",
    "2*3\n",
    "2**3   # exponentiation \n",
    "2**128 \n",
    "2/3\n",
    "2/3.0\n",
    "2//3   # integer division\n",
    "4//3   \n",
    "2%3    # modulo\n",
    "4%3\n",
    "bin(5|2) # convert a number to binary after bit operations\n",
    "bin(5^1)\n",
    "bin(5&1)\n",
    "a = 6\n",
    "b = 7\n",
    "print(a==6)   # boolean expressions\n",
    "print(a==7)\n",
    "print(a==6 and b==7)\n",
    "print(a==6 or b==6)\n",
    "print(not a==6 and b==6)\n",
    "print(not (a==6 and b==6))"
   ]
  },
  {
   "cell_type": "markdown",
   "id": "a6c7f73a",
   "metadata": {},
   "source": [
    "### Working with Variables\n",
    "In programming languages, variables are containers that store simple information. In Python, variables can store strings or numbers. A string is a block of text, such as \"Stan Baek is the legendary pirate captain.\" A number can be an integer or a decimal number.  Try the the following code in Python Console."
   ]
  },
  {
   "cell_type": "code",
   "execution_count": null,
   "id": "f86bf659",
   "metadata": {},
   "outputs": [],
   "source": [
    "# a string variable\n",
    "name = \"Stan Baek\"\n",
    "\n",
    "# You can check the type in use by issuing the type() command\n",
    "type(name)\n",
    "\n",
    "# It will return <class 'str'>\n",
    "\n",
    "# Add a new string variable \n",
    "title = \"the legendary pirate captain\"\n",
    "\n",
    "# You can add (+) string variables to combine them into a new variable\n",
    "character = name + \": \" + title\n",
    "\n",
    "# print\n",
    "print(character)\n",
    "\n",
    "# integer variable\n",
    "age = 726\n",
    "\n",
    "# Check the type using type()\n",
    "type(name)\n",
    "\n",
    "# Let's try to combine a string with an integer\n",
    "print(character + age)\n",
    "\n",
    "# Now let's convert integer to string for printing\n",
    "print(character + \" is \" + str(age) + \" years old.\")\n",
    "\n",
    "# You can ask for input from the user. \n",
    "age = input(\"How old are you? \")\n",
    "\n",
    "type(age)\n",
    "\n",
    "# Since age is a string variable. We need to convert it to integer.\n",
    "int(age)+10\n",
    "\n",
    "# Numbers with a decimal point are floating point variables\n",
    "x = 3.141\n",
    "type(x)\n",
    "\n",
    "print(x)\n",
    "\n",
    "print(int(x))"
   ]
  },
  {
   "cell_type": "markdown",
   "id": "b7514dc7",
   "metadata": {},
   "source": [
    "A few things are going on here while creating variables. First, Python lets us define variables using the convention variable_name = value. As long as the variable name is unique (it is not the name of a function, module, or other variable), we can define our variable this way. For strings, single quotes or double quotes must be used around the text that needs to be in the variable; it doesn't matter whether you choose single or double quotes, just stay consistent."
   ]
  },
  {
   "cell_type": "markdown",
   "id": "dec5a701",
   "metadata": {},
   "source": [
    "### Functions and Modules\n",
    "The next step is to tackle built-in functions.  "
   ]
  },
  {
   "cell_type": "code",
   "execution_count": null,
   "id": "6c793b20",
   "metadata": {},
   "outputs": [],
   "source": [
    "name = \"Stan Baek\"\n",
    "len(name)  # return the lenght of string\n",
    "type(name) # return variable type"
   ]
  },
  {
   "cell_type": "markdown",
   "id": "c75b16da",
   "metadata": {},
   "source": [
    "Python has tens of built-in functions. To view the list of the functions, navigate to \n",
    "https://docs.python.org/3.8/library/functions.html\n",
    "\n",
    "In Python you can use `help` to display the description of a function."
   ]
  },
  {
   "cell_type": "code",
   "execution_count": null,
   "id": "aa892958",
   "metadata": {},
   "outputs": [],
   "source": [
    "help(len)"
   ]
  },
  {
   "cell_type": "markdown",
   "id": "04aa5772",
   "metadata": {},
   "source": [
    "In Python, we can create functions to perform a specific task. Python functions start with the keyword `def` followed by the function name, an open parenthesis, any inputs to pass to the function, a close parenthesis, and a colon. When we start writing what the function will do, we need to start on a new line and \"tab-in\" so that Python knows we are writing within the scope of the function. The function finishes when it gets to the last line of code or it reaches a `return` keyword. Let's write a function that adds two numbers"
   ]
  },
  {
   "cell_type": "code",
   "execution_count": null,
   "id": "ae5c4d2a",
   "metadata": {},
   "outputs": [],
   "source": [
    "def add(a, b):\n",
    "    return a+b\n",
    "    \n",
    "print(add(3, 4))"
   ]
  },
  {
   "cell_type": "markdown",
   "id": "6e269c0c",
   "metadata": {},
   "source": [
    "Let's look at the `print` function more carefully. There are a few different methods to print a string with variables. "
   ]
  },
  {
   "cell_type": "code",
   "execution_count": null,
   "id": "bede6749",
   "metadata": {},
   "outputs": [],
   "source": [
    "title = \"The legendary pirate captain\"\n",
    "age = 726.25\n",
    "\n",
    "# method 1: (formatted-string)%(values)\n",
    "print(\"%s is %f years old.\"%(title, age))     # print a string and a floating point\n",
    "print(\"%s is %.4f years old.\"%(title, age))   # 4 decimal places\n",
    "print(\"%s is %10.4f years old.\"%(title, age)) # allocate 10 spaces\n",
    "print(\"%s is %d years old.\"%(title, age))     # print it as integer\n",
    "print(\"%s is %10d years old.\"%(title, age))   # allocate 10 spaces\n",
    "\n",
    "# method 2: (formatted-string).format(values)\n",
    "print(\"{} is {} years old.\".format(title, age)) \n",
    "print(\"{} is {:0.4f} years old.\".format(title, age))\n",
    "print(\"{} is {:10.4f} years old.\".format(title, age))\n",
    "\n",
    "# method 3: f(formatted-string with values)\n",
    "print(f\"{title} is {age} years old.\")\n",
    "print(f\"{title} is {age:.4f} years old.\")\n",
    "print(f\"{title} is {age:10.4f} years old.\")"
   ]
  },
  {
   "cell_type": "markdown",
   "id": "ac317007",
   "metadata": {},
   "source": [
    "### Python Modules\n",
    "Additional functions can be added to python through modules. Modules are packages of additional functionality built by others. Typically, a module is comprised of compiled code that serves a specific function. To use advanced mathematical functions, enter import math"
   ]
  },
  {
   "cell_type": "code",
   "execution_count": null,
   "id": "bc1305bd",
   "metadata": {},
   "outputs": [],
   "source": [
    "import math\n",
    "math.sqrt(16)\n",
    "math.sin(math.pi/2)\n",
    "math.cos(0)"
   ]
  },
  {
   "cell_type": "markdown",
   "id": "2ccf3c9e",
   "metadata": {},
   "source": [
    "With Python code, the convention is to import all required modules at the top of the python script. \n",
    "By importing all modules at the beginning of the script, we ensure that all modules have been loaded by the time we need them later in the script. Also, it ensures anyone reading our code can very quickly see all the modules (dependencies) needed to run the code. \n",
    "\n",
    "We can also import individual function from a module"
   ]
  },
  {
   "cell_type": "code",
   "execution_count": null,
   "id": "96222852",
   "metadata": {},
   "outputs": [],
   "source": [
    "from math import sqrt, sin, pi\n",
    "print(sqrt(16))\n",
    "print(sin(pi/2))\n",
    "cos(0)   # error because cos was not imported"
   ]
  },
  {
   "cell_type": "code",
   "execution_count": null,
   "id": "5f6ec837",
   "metadata": {},
   "outputs": [],
   "source": [
    "import math as m\n",
    "m.sqrt(16)\n",
    "m.sin(m.pi/2)\n",
    "m.cos(0)"
   ]
  },
  {
   "cell_type": "markdown",
   "id": "8a3f7af9",
   "metadata": {},
   "source": [
    "### Conditions\n",
    "The `if`, `else`, and `elif` statements control conditional code execution. The general format of a conditional state is as follows:"
   ]
  },
  {
   "cell_type": "code",
   "execution_count": null,
   "id": "d99a7dc0",
   "metadata": {},
   "outputs": [],
   "source": [
    "if expression:\n",
    "    statements\n",
    "elif expression:\n",
    "    statements\n",
    "elif expression:\n",
    "    statements\n",
    "else:\n",
    "    statements"
   ]
  },
  {
   "cell_type": "markdown",
   "id": "aaac4bc9",
   "metadata": {},
   "source": [
    "If no action is to be taken, you can moit both the `else` and `elif` clauses of a conditional. Use the `pass` statement if no statements exists for a particular clause:"
   ]
  },
  {
   "cell_type": "code",
   "execution_count": null,
   "id": "e88cd2dc",
   "metadata": {},
   "outputs": [],
   "source": [
    "if expression:\n",
    "    pass       # Do nothing.\n",
    "else:\n",
    "    statements"
   ]
  },
  {
   "cell_type": "markdown",
   "id": "7fd555f6",
   "metadata": {},
   "source": [
    "Here is an example"
   ]
  },
  {
   "cell_type": "code",
   "execution_count": null,
   "id": "105a312c",
   "metadata": {},
   "outputs": [],
   "source": [
    "word = input(\"Enter a four-letter word: \")\n",
    "if len(word) == 4:\n",
    "    print(word, \"is a four-letter word. Well done.\")\n",
    "elif len(word) == 3:\n",
    "    print(word, \"is a three-letter word.\")\n",
    "else:\n",
    "    print(word, \"is not a four-letter word.\")"
   ]
  },
  {
   "cell_type": "markdown",
   "id": "aa575120",
   "metadata": {},
   "source": [
    "Let's take a look at the following if-elif-else statement."
   ]
  },
  {
   "cell_type": "code",
   "execution_count": null,
   "id": "8d3e565a",
   "metadata": {},
   "outputs": [],
   "source": [
    "hand = input(\"What would you like to play? \")\n",
    "if hand == \"Rock\":\n",
    "    print(\"It is a valid play\")\n",
    "elif hand == \"Paper\":\n",
    "    print(\"It is a valid play\")\n",
    "elif hand == \"Sciccors\":\n",
    "    print(\"It is a valid play\")\n",
    "else:    \n",
    "    print(\"It is an invalid play\")"
   ]
  },
  {
   "cell_type": "markdown",
   "id": "8489e3f4",
   "metadata": {},
   "source": [
    "This code can be simplified by"
   ]
  },
  {
   "cell_type": "code",
   "execution_count": null,
   "id": "23ec5b10",
   "metadata": {},
   "outputs": [],
   "source": [
    "hand = input(\"What would you like to play? \")\n",
    "if hand == \"Rock\" or hand == \"Paper\" or hand == \"Sciccors\":\n",
    "    print(\"It is a valid play\")\n",
    "else:    \n",
    "    print(\"It is an invalid play\")"
   ]
  },
  {
   "cell_type": "markdown",
   "id": "2e8a16ab",
   "metadata": {},
   "source": [
    "It can be even further simplified by"
   ]
  },
  {
   "cell_type": "code",
   "execution_count": null,
   "id": "02fdbf87",
   "metadata": {},
   "outputs": [],
   "source": [
    "hand = input(\"What would you like to play? \")\n",
    "if hand in  (\"Rock\", \"Paper\", \"Scissors\"):\n",
    "    print(\"It is a valid play\")\n",
    "else:    \n",
    "    print(\"It is an invalid play\")    "
   ]
  },
  {
   "cell_type": "markdown",
   "id": "b7ad3299",
   "metadata": {},
   "source": [
    "The last code snippet is **Pythonic**.  Pythonic is a coding style that leverages Python's unique features to write code that is more readable and sometimes faster."
   ]
  },
  {
   "cell_type": "markdown",
   "id": "603613d7",
   "metadata": {},
   "source": [
    "### Loops\n",
    "Let's start with a simple `while` statement."
   ]
  },
  {
   "cell_type": "code",
   "execution_count": null,
   "id": "4d9cc176",
   "metadata": {},
   "outputs": [],
   "source": [
    "x = 1\n",
    "while x < 5:\n",
    "    print(x)\n",
    "    x = x + 1\n",
    "    \n",
    "while True:\n",
    "    print(x)\n",
    "    x -= 1\n",
    "    if x == 0:\n",
    "        break"
   ]
  },
  {
   "cell_type": "markdown",
   "id": "b0fad10b",
   "metadata": {},
   "source": [
    "Let's try a `for` loop"
   ]
  },
  {
   "cell_type": "code",
   "execution_count": null,
   "id": "2feb866b",
   "metadata": {},
   "outputs": [],
   "source": [
    "for x in range(0,5):  # 0 <= x < 5\n",
    "    print(x)"
   ]
  },
  {
   "cell_type": "code",
   "execution_count": null,
   "id": "f52c9837",
   "metadata": {},
   "outputs": [],
   "source": [
    "animals=(\"Cat\", \"Dog\", \"Chicken\", \"Dragon\")\n",
    "for animal in animals:\n",
    "    print(animal)"
   ]
  },
  {
   "cell_type": "markdown",
   "id": "69c81e1c",
   "metadata": {},
   "source": [
    "You can accomplish the same with the following code"
   ]
  },
  {
   "cell_type": "code",
   "execution_count": null,
   "id": "87ef2acf",
   "metadata": {},
   "outputs": [],
   "source": [
    "for i in range(0,len(animals)):\n",
    "    print(animals[i])"
   ]
  },
  {
   "cell_type": "markdown",
   "id": "57ceca07",
   "metadata": {},
   "source": [
    "However, it is not **Pythonic**. "
   ]
  },
  {
   "cell_type": "markdown",
   "id": "0cd2a2cc",
   "metadata": {},
   "source": [
    "# Homework\n",
    "Create a folder called `ICE1` in your repository and create ex1.py, ex2.py, and ex3.py in the `ICE1` folder.  Complete the following exercises and push the files to your repository."
   ]
  },
  {
   "cell_type": "markdown",
   "id": "765ac4bd",
   "metadata": {},
   "source": [
    "### Problem 1\n",
    "Write a Python script that asks the user to enter an integer n and prints n lines of following patterns.\n",
    "\n",
    "(a)\n",
    "```\n",
    "1\n",
    "3 3\n",
    "5 5 5\n",
    "7 7 7 7\n",
    "```\n",
    "(b)\n",
    "```\n",
    "      6\n",
    "    4 4\n",
    "  2 2 2\n",
    "0 0 0 0 \n",
    "```"
   ]
  },
  {
   "cell_type": "markdown",
   "id": "d98ba492",
   "metadata": {},
   "source": [
    "### Problem 2\n",
    " Write a Python script that computes square roots using the Newton's method of successive approximation, which says that whenever we have a guess $y$ for the value of the square root of a number $x$, we can perform a simple manipulation to get a better guess by averaging $y$ with $x/y$. For example we can compute the square root of 2 as shown below\n",
    " \n",
    "<div>\n",
    "    <img src=\"figs/sqrt.png\" width=\"450\"/>\n",
    "</div>\n",
    "\n",
    "You need to iterate until $|y^2 - x| < \\epsilon$, where $\\epsilon = 10^{-9}$ is the tolerance. You are not allowed to use any functions in the `math` module except `math.fabs` for the absolute values.  \n"
   ]
  },
  {
   "cell_type": "code",
   "execution_count": null,
   "id": "ff2ba389",
   "metadata": {},
   "outputs": [],
   "source": [
    "import math\n",
    "\n",
    "x = 2\n",
    "guess = 1\n",
    "tolerance = 1e-9\n",
    "\n",
    "# write your code here\n",
    "\n",
    "\n",
    "\n",
    "print(guess)"
   ]
  },
  {
   "cell_type": "markdown",
   "id": "8c4dafe5",
   "metadata": {},
   "source": [
    "### Problem 3\n",
    "Write a Python **function** that takes a string argument and returns the number of lowercase vowels in the string."
   ]
  },
  {
   "cell_type": "code",
   "execution_count": null,
   "id": "8fb75cc5",
   "metadata": {},
   "outputs": [],
   "source": [
    "import math\n",
    "\n",
    "def num_vowels(str):\n",
    "    # write your code here using the Pythonic style.\n",
    "\n",
    "    \n",
    "\n",
    "    \n",
    "    \n",
    "yoda = \"Do or do not, there is no try\"\n",
    "vader = \"I find your lack of faith disturbing\"\n",
    "harry = \"Expecto Patronum\"\n",
    "preamble = \\\n",
    "    \"\"\"We the People of the United States, \n",
    "    in Order to form a more perfect Union, establish Justice, \n",
    "    insure domestic Tranquility, provide for the common defense, \n",
    "    promote the general Welfare, \n",
    "    and secure the Blessings of Liberty to ourselves and our Posterity, \n",
    "    do ordain and establish this Constitution for the United States of America\"\"\"\n",
    "\n",
    "print(num_vowels(yoda))     # must return 8\n",
    "print(num_vowels(vader))    # must return 10\n",
    "print(num_vowels(harry))    # must return 5\n",
    "print(num_vowels(preamble))  # must return 103"
   ]
  }
 ],
 "metadata": {
  "kernelspec": {
   "display_name": "Python 3 (ipykernel)",
   "language": "python",
   "name": "python3"
  },
  "language_info": {
   "codemirror_mode": {
    "name": "ipython",
    "version": 3
   },
   "file_extension": ".py",
   "mimetype": "text/x-python",
   "name": "python",
   "nbconvert_exporter": "python",
   "pygments_lexer": "ipython3",
   "version": "3.9.7"
  }
 },
 "nbformat": 4,
 "nbformat_minor": 5
}
