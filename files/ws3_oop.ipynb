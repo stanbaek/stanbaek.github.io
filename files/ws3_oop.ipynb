{
  "cells": [
    {
      "cell_type": "markdown",
      "id": "31f0273c",
      "metadata": {},
      "source": [
        "# 🐍 Workshop 3 — Object Oriented Programming\n",
        "\n",
        "[![Open In Colab](https://colab.research.google.com/assets/colab-badge.svg)](https://colab.research.google.com/github/stanbaek/ece387/blob/main/docs/Workshop1.ipynb)\n",
        "\n",
        "**Goal:** Strengthen understanding of Python’s built‑in containers and idioms.  \n",
        "**Time:** 50 minutes  \n",
        "**Prereqs:** Variables, loops, basic functions. No external packages required.\n"
      ]
    },
    {
      "cell_type": "markdown",
      "id": "de130d49",
      "metadata": {},
      "source": [
        "### `dataclasses` (brief intro)\n",
        "Automatically adds `__init__`, `__repr__`, etc., to simple data containers."
      ]
    },
    {
      "cell_type": "code",
      "execution_count": 89,
      "id": "dd76fd67",
      "metadata": {},
      "outputs": [
        {
          "name": "stdout",
          "output_type": "stream",
          "text": [
            "Student(name='Ana', grade=92.0)\n"
          ]
        }
      ],
      "source": [
        "from dataclasses import dataclass\n",
        "\n",
        "@dataclass\n",
        "class Student:\n",
        "    name: str\n",
        "    grade: float\n",
        "\n",
        "s = Student(\"Ana\", 92.0)\n",
        "print(s)"
      ]
    },
    {
      "cell_type": "markdown",
      "id": "8b600700",
      "metadata": {},
      "source": [
        "### Idiomatic tools: `enumerate`, `zip`, unpacking, sorting with `key=`, lambdas, `map`/`filter`/`reduce`"
      ]
    },
    {
      "cell_type": "code",
      "execution_count": 90,
      "id": "63401381",
      "metadata": {},
      "outputs": [
        {
          "name": "stdout",
          "output_type": "stream",
          "text": [
            "first: 1 10\n",
            "[('Ana', 92), ('Bo', 90), ('Cat', 88)]\n",
            "1 [2, 3, 4] 5\n",
            "[('Bo', 95), ('Ana', 92), ('Bo', 90), ('Cat', 88)]\n",
            "[2, 4, 6, 8] [2, 4] 24\n"
          ]
        }
      ],
      "source": [
        "# enumerate\n",
        "for i, value in enumerate([10, 20, 30], start=1):\n",
        "    if i == 1:\n",
        "        print(\"first:\", i, value)\n",
        "        break\n",
        "\n",
        "# zip\n",
        "names = [\"Ana\", \"Bo\", \"Cat\"]\n",
        "grades = [92, 90, 88]\n",
        "print(list(zip(names, grades)))\n",
        "\n",
        "# unpacking\n",
        "first, *middle, last = [1,2,3,4,5]\n",
        "print(first, middle, last)\n",
        "\n",
        "# sorting with key\n",
        "from operator import itemgetter\n",
        "students = [(\"Ana\", 92), (\"Bo\", 90), (\"Cat\", 88), (\"Bo\", 95)]\n",
        "print(sorted(students, key=itemgetter(1), reverse=True))  # by grade desc\n",
        "\n",
        "# map / filter / reduce\n",
        "from functools import reduce\n",
        "\n",
        "data = [1,2,3,4]\n",
        "doubles = list(map(lambda x: 2*x, data))\n",
        "evens   = list(filter(lambda x: x % 2 == 0, data))\n",
        "prod    = reduce(lambda a,b: a*b, data, 1)\n",
        "print(doubles, evens, prod)"
      ]
    },
    {
      "cell_type": "markdown",
      "id": "89ba0613",
      "metadata": {},
      "source": [
        "### Exercise B (3–4 min)\n",
        "1) Dict comprehension mapping names to lengths for `names = [\"Ana\",\"Bo\",\"Cat\"]`.  \n",
        "2) Use `Counter` to tally words in `\"to be or not to be\"`.  \n",
        "3) Sort `students` by descending grade, breaking ties by name.\n",
        "\n",
        "*Type your answers below.*"
      ]
    },
    {
      "cell_type": "code",
      "execution_count": 91,
      "id": "6d8bfa80",
      "metadata": {},
      "outputs": [],
      "source": [
        "# 1\n",
        "names = [\"Ana\",\"Bo\",\"Cat\"]\n",
        "name_len = ...\n",
        "\n",
        "# 2\n",
        "from collections import Counter\n",
        "words = \"to be or not to be\".split()\n",
        "word_counts = ...\n",
        "\n",
        "# 3\n",
        "students = [(\"Ana\", 92), (\"Bo\", 90), (\"Cat\", 88), (\"Bo\", 95), (\"Bo\", 95)]\n",
        "sorted_students = ...  # use key=lambda t: (...)\n",
        "\n",
        "# Checks (optional)\n",
        "# assert name_len == {\"Ana\":3, \"Bo\":2, \"Cat\":3}\n",
        "# assert word_counts == Counter({\"to\":2, \"be\":2, \"or\":1, \"not\":1})\n",
        "# assert sorted_students[0][1] >= sorted_students[-1][1]"
      ]
    },
    {
      "cell_type": "markdown",
      "id": "3dbfb519",
      "metadata": {},
      "source": [
        "## 3) Mini‑Project Datasets (provided)\n",
        "This cell creates two small CSV files in your environment and also loads them into memory structures you can use directly.\n",
        "- **grades.csv** — columns: `name,exam1,exam2,exam3`\n",
        "- **sensor.csv** — columns: `t,x,y,z` (synthetic 10 Hz accelerometer)"
      ]
    },
    {
      "cell_type": "code",
      "execution_count": null,
      "id": "098f2e15",
      "metadata": {},
      "outputs": [],
      "source": [
        "from pathlib import Path\n",
        "from random import Random\n",
        "import math\n",
        "\n",
        "DATA_DIR = Path(\"./data\")\n",
        "DATA_DIR.mkdir(exist_ok=True)\n",
        "\n",
        "# Grades dataset\n",
        "grades_rows = [\n",
        "    (\"Ana\", 92, 95, 88),\n",
        "    (\"Bo\", 90, 85, 91),\n",
        "    (\"Cat\", 88, 90, 84),\n",
        "    (\"Dan\", 70, 79, 75),\n",
        "    (\"Eve\", 98, 94, 96),\n",
        "]\n",
        "with open(DATA_DIR/\"grades.csv\", \"w\", encoding=\"utf-8\") as f:\n",
        "    f.write(\"name,exam1,exam2,exam3\n",
        "\")\n",
        "    for row in grades_rows:\n",
        "        f.write(\",\".join([row[0]] + [str(x) for x in row[1:]]) + \"\n",
        "\")\n",
        "\n",
        "# Sensor dataset (synthetic)\n",
        "rand = Random(42)\n",
        "fs = 10.0  # Hz\n",
        "N = 100\n",
        "sensor_rows = []\n",
        "for i in range(N):\n",
        "    t = i / fs\n",
        "    x = 0.05*math.sin(2*math.pi*0.5*t) + 0.01*rand.uniform(-1,1)\n",
        "    y = 0.05*math.cos(2*math.pi*0.5*t) + 0.01*rand.uniform(-1,1)\n",
        "    z = 9.80 + 0.03*math.sin(2*math.pi*1.0*t + 0.3) + 0.02*rand.uniform(-1,1)\n",
        "    sensor_rows.append((t,x,y,z))\n",
        "\n",
        "with open(DATA_DIR/\"sensor.csv\", \"w\", encoding=\"utf-8\") as f:\n",
        "    f.write(\"t,x,y,z\n",
        "\")\n",
        "    for row in sensor_rows:\n",
        "        f.write(\",\".join(f\"{v:.4f}\" if isinstance(v,float) else str(v) for v in row) + \"\n",
        "\")\n",
        "\n",
        "print(\"Created:\", (DATA_DIR/\"grades.csv\").resolve())\n",
        "print(\"Created:\", (DATA_DIR/\"sensor.csv\").resolve())\n",
        "\n",
        "# In-memory versions\n",
        "grade_records = [\n",
        "    {\"name\": r[0], \"scores\": [r[1], r[2], r[3]]} for r in grades_rows\n",
        "]\n",
        "\n",
        "sensor_samples = sensor_rows  # list of tuples (t,x,y,z)\n",
        "len(grade_records), len(sensor_samples)"
      ]
    },
    {
      "cell_type": "markdown",
      "id": "f631e027",
      "metadata": {},
      "source": [
        "## 3A) Mini‑Project — Student Grades (10–12 min)\n",
        "Use lists, dicts, comprehensions, `Counter`, and optionally `dataclass`.\n",
        "\n",
        "**Tasks**\n",
        "1) Build `avg_by_student: name -> average` from `grade_records`.  \n",
        "2) Find **top‑2** students by average (use `sorted(..., key=..., reverse=True)`).  \n",
        "3) Create a **letter‑grade** function and produce a **distribution** using `Counter`.  \n",
        "4) *(Stretch)* Use a `@dataclass` for `Student(name, scores)` and re‑implement 1–3."
      ]
    },
    {
      "cell_type": "code",
      "execution_count": null,
      "id": "4ca7a759",
      "metadata": {},
      "outputs": [],
      "source": [
        "from statistics import mean\n",
        "from collections import Counter\n",
        "\n",
        "# 1) average by student\n",
        "avg_by_student = ...\n",
        "\n",
        "# 2) top-2\n",
        "top2 = ...\n",
        "\n",
        "# 3) letter grade distribution\n",
        "\n",
        "def letter(avg: float) -> str:\n",
        "    return (\n",
        "        \"A\" if avg >= 90 else\n",
        "        \"B\" if avg >= 80 else\n",
        "        \"C\" if avg >= 70 else\n",
        "        \"D\" if avg >= 60 else\n",
        "        \"F\"\n",
        "    )\n",
        "\n",
        "dist = ...\n",
        "\n",
        "print(\"avg_by_student:\", avg_by_student)\n",
        "print(\"top2:\", top2)\n",
        "print(\"distribution:\", dist)"
      ]
    },
    {
      "cell_type": "markdown",
      "id": "df39272e",
      "metadata": {},
      "source": [
        "### Solution (reveal when ready)\n",
        "<details><summary>Click to expand</summary>\n",
        "\n",
        "```python\n",
        "from statistics import mean\n",
        "from collections import Counter\n",
        "\n",
        "avg_by_student = {r[\"name\"]: mean(r[\"scores\"]) for r in grade_records}\n",
        "\n",
        "top2 = sorted(avg_by_student.items(), key=lambda kv: kv[1], reverse=True)[:2]\n",
        "\n",
        "dist = Counter(letter(avg) for avg in avg_by_student.values())\n",
        "print(avg_by_student) ; print(top2) ; print(dist)\n",
        "```\n",
        "\n",
        "**Stretch (dataclass)**\n",
        "```python\n",
        "from dataclasses import dataclass\n",
        "\n",
        "@dataclass\n",
        "class Student:\n",
        "    name: str\n",
        "    scores: list[float]\n",
        "\n",
        "students = [Student(**rec) for rec in grade_records]\n",
        "avg_by_student = {s.name: mean(s.scores) for s in students}\n",
        "```\n",
        "</details>"
      ]
    },
    {
      "cell_type": "markdown",
      "id": "61ebcfaf",
      "metadata": {},
      "source": [
        "## 3B) Mini‑Project — Sensor Readings (10–12 min)\n",
        "Use tuples, `namedtuple` or `dataclass`, `zip`, comprehensions, sorting.\n",
        "\n",
        "**Tasks**\n",
        "1) Convert `sensor_samples` to a list of **`namedtuple`**s `Accel(t, x, y, z)`.  \n",
        "2) Compute per‑axis means using `zip` and `statistics.mean`.  \n",
        "3) Compute a **moving average** on `z` (window=5).  \n",
        "4) Build a summary dict: `{\"N\": ..., \"x_mean\": ..., \"y_mean\": ..., \"z_mean\": ..., \"z_ma\": [...]}`."
      ]
    },
    {
      "cell_type": "code",
      "execution_count": null,
      "id": "27cf694c",
      "metadata": {},
      "outputs": [],
      "source": [
        "from collections import namedtuple\n",
        "from statistics import mean\n",
        "\n",
        "# 1) records as namedtuples\n",
        "Accel = namedtuple(\"Accel\", \"t x y z\")\n",
        "data = [Accel(*row) for row in sensor_samples]\n",
        "\n",
        "# 2) per-axis means (skip time)\n",
        "_, xs, ys, zs = zip(*data)\n",
        "x_mean = ...\n",
        "y_mean = ...\n",
        "z_mean = ...\n",
        "\n",
        "# 3) moving average on z (window=5)\n",
        "w = 5\n",
        "z_ma = ...  # list of means\n",
        "\n",
        "# 4) summary\n",
        "summary = ...\n",
        "summary"
      ]
    },
    {
      "cell_type": "markdown",
      "id": "a5157d53",
      "metadata": {},
      "source": [
        "### Solution (reveal when ready)\n",
        "<details><summary>Click to expand</summary>\n",
        "\n",
        "```python\n",
        "from collections import namedtuple\n",
        "from statistics import mean\n",
        "\n",
        "Accel = namedtuple(\"Accel\", \"t x y z\")\n",
        "data = [Accel(*row) for row in sensor_samples]\n",
        "\n",
        "_, xs, ys, zs = zip(*data)\n",
        "x_mean, y_mean, z_mean = mean(xs), mean(ys), mean(zs)\n",
        "\n",
        "w = 5\n",
        "z_ma = [mean(zs[i:i+w]) for i in range(len(zs)-w+1)]\n",
        "\n",
        "summary = {\n",
        "    \"N\": len(data),\n",
        "    \"x_mean\": x_mean,\n",
        "    \"y_mean\": y_mean,\n",
        "    \"z_mean\": z_mean,\n",
        "    \"z_ma\": z_ma,\n",
        "}\n",
        "summary\n",
        "```\n",
        "</details>"
      ]
    },
    {
      "cell_type": "markdown",
      "id": "16a9d58d",
      "metadata": {},
      "source": [
        "## 4) Wrap‑up (5 min)\n",
        "**Takeaways**\n",
        "- Choose the right container: list/tuple/set/dict.\n",
        "- Prefer comprehensions, `enumerate`, `zip`, and `key=` sorts for readability.\n",
        "- Use `defaultdict` for grouping, `Counter` for tallies, `namedtuple`/`dataclass` for simple records.\n",
        "\n",
        "**Further reading**\n",
        "- Python Tutorial — Data Structures (lists, dicts, sets, comprehensions): https://docs.python.org/3/tutorial/datastructures.html\n",
        "- `collections` (Counter, defaultdict, namedtuple): https://docs.python.org/3/library/collections.html\n",
        "- `dataclasses`: https://docs.python.org/3/library/dataclasses.html\n",
        "- Sorting HOWTO: https://docs.python.org/3/howto/sorting.html\n",
        "- Built‑ins (`enumerate`, `zip`, `map`, `filter`) & `functools.reduce`: https://docs.python.org/3/library/functions.html , https://docs.python.org/3/library/functools.html"
      ]
    }
  ],
  "metadata": {
    "kernelspec": {
      "display_name": ".venv",
      "language": "python",
      "name": "python3"
    },
    "language_info": {
      "codemirror_mode": {
        "name": "ipython",
        "version": 3
      },
      "file_extension": ".py",
      "mimetype": "text/x-python",
      "name": "python",
      "nbconvert_exporter": "python",
      "pygments_lexer": "ipython3",
      "version": "3.12.9"
    }
  },
  "nbformat": 4,
  "nbformat_minor": 5
}
