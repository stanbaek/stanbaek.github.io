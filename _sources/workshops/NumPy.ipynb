{
 "cells": [
  {
   "cell_type": "markdown",
   "id": "96de5a88",
   "metadata": {},
   "source": [
    "# 🧮 NumPy\n",
    "\n",
    "[![Open In Colab](https://colab.research.google.com/assets/colab-badge.svg)](https://colab.research.google.com/github/stanbaek/stanbaek.github.io/blob/main/docs/workshops/NumPy.ipynb)\n",
    "\n",
    "\n",
    "**Goal:** Develop fluency with NumPy arrays and foundational data visualization using Matplotlib.\n",
    "**Time:** 1.0 hours  \n",
    "**Prereqs:** Python lists, loops, basic functions. Some exposure to matrix concepts helpful.  "
   ]
  },
  {
   "cell_type": "markdown",
   "id": "fa7261cf",
   "metadata": {},
   "source": [
    "## Agenda  \n",
    "- NumPy arrays: creation, shape, and indexing\n",
    "- Array generation: zeros, arange, linspace, and reshaping\n",
    "- Element-wise operations & matrix math\n",
    "- Array manipulation: flattening, transposing, inserting\n",
    "- Intro to Matplotlib: basic plots and visualizing arrays\n",
    "\n",
    "References: \n",
    "- [NumPy Quickstart Guide](https://numpy.org/doc/stable/user/quickstart.html)\n",
    "- [NumPy user guide](https://numpy.org/doc/stable/user/index.html)\n",
    "- [NumPy for MATLAB users](https://numpy.org/doc/stable/user/numpy-for-matlab-users.html)\n"
   ]
  },
  {
   "cell_type": "markdown",
   "id": "77b66ba6",
   "metadata": {},
   "source": [
    "NumPy is the backbone of numerical computing in Python. Whether you're modeling sensor data, manipulating matrices, or preparing inputs for machine learning, NumPy arrays offer the speed, structure, and flexibility that native Python lists simply can't match. This section introduces the core building blocks: how arrays are created, shaped, and operated on — all with the precision and performance needed for scientific work."
   ]
  },
  {
   "cell_type": "markdown",
   "id": "3fc23f3f",
   "metadata": {},
   "source": [
    "## 1. NumPy Fundamentals\n",
    "\n",
    "Let’s start by building intuition around arrays and their dimensions, then move into hands-on creation and manipulation."
   ]
  },
  {
   "cell_type": "markdown",
   "id": "70ef4e84",
   "metadata": {},
   "source": [
    "### Creating Arrays\n",
    "\n",
    "You can create an array from a Python list or tuple using the `array` function. The resulting array's type is deduced from the elements in the sequence."
   ]
  },
  {
   "cell_type": "code",
   "execution_count": null,
   "id": "f8d48c0a",
   "metadata": {},
   "outputs": [],
   "source": [
    "import numpy as np\n",
    "a = np.array([2, 3, 4])\n",
    "print(a)\n",
    "print(type(a))    # Output: <class 'numpy.ndarray'>\n",
    "print(a.dtype)    # Output: int64 or int32, depending on your system\n",
    "b = np.array([1.2, 3.5, 5.1])\n",
    "print(type(b))    # Output: <class 'numpy.ndarray'>\n",
    "print(b.dtype)    # Output: float64 "
   ]
  },
  {
   "cell_type": "markdown",
   "id": "8484a6b1",
   "metadata": {},
   "source": [
    "A common mistake is passing multiple arguments to `array` instead of a single sequence:"
   ]
  },
  {
   "cell_type": "code",
   "execution_count": null,
   "id": "4ee224ce",
   "metadata": {},
   "outputs": [],
   "source": [
    "a = np.array(1, 2, 3, 4)  # TypeError: array() takes from 1 to 2 positional arguments but 4 were given\n",
    "\n",
    "a = np.array([1, 2, 3, 4])  # RIGHT"
   ]
  },
  {
   "cell_type": "markdown",
   "id": "04e1bc7e",
   "metadata": {},
   "source": [
    "`np.array` can transform sequences of sequences into 2D arrays, sequences of sequences of sequences into 3D arrays, and so on."
   ]
  },
  {
   "cell_type": "code",
   "execution_count": null,
   "id": "abac3b65",
   "metadata": {},
   "outputs": [],
   "source": [
    "b = np.array([(1.5, 2, 3), (4, 5, 6)])\n",
    "print(b)\n",
    "print(b.ndim)    # dimension: 2\n",
    "print(b[0])   # first row\n",
    "print(b[0][0]) # first element of first row\n",
    "print(b[0,0])  # first element of first row"
   ]
  },
  {
   "cell_type": "markdown",
   "id": "41dfd88b",
   "metadata": {},
   "source": [
    "### Creating Arrays with Functions\n",
    "NumPy provides several functions to create arrays:\n",
    "- `np.zeros`: Creates an array filled with zeros.\n",
    "- `np.ones`: Creates an array filled with ones.\n",
    "- `np.empty`: Creates an uninitialized array with random content based on memory state."
   ]
  },
  {
   "cell_type": "code",
   "execution_count": null,
   "id": "65a2c4ce",
   "metadata": {},
   "outputs": [],
   "source": [
    "# Predefined Values\n",
    "a = np.zeros((2, 6)) # 2x6 array of zeros\n",
    "print(a)\n",
    "b = np.ones((2, 3, 4), dtype=np.int16) # 3D array of ones\n",
    "print(b)\n",
    "c = np.empty((2, 3)) # 2x3 uninitialized array\n",
    "print(c)"
   ]
  },
  {
   "cell_type": "markdown",
   "id": "2ef69c77",
   "metadata": {},
   "source": [
    "To create sequences of numbers, NumPy provides the `arange` function which is analogous to the Python built-in range, but returns an array."
   ]
  },
  {
   "cell_type": "code",
   "execution_count": null,
   "id": "1fc7bc98",
   "metadata": {},
   "outputs": [],
   "source": [
    "a = np.arange(10, 30, 5)\n",
    "print(a)\n",
    "b = np.arange(0, 2, 0.3)  \n",
    "print(b)  # 9 numbers from 0 to 2"
   ]
  },
  {
   "cell_type": "markdown",
   "id": "dce7954d",
   "metadata": {},
   "source": [
    "When `arange` is used with floating point arguments, it is generally not possible to predict the number of elements obtained, due to the finite floating point precision. For this reason, it is usually better to use the function `linspace` that receives as an argument the number of elements that we want, instead of the step:"
   ]
  },
  {
   "cell_type": "code",
   "execution_count": null,
   "id": "5f98ebc8",
   "metadata": {},
   "outputs": [],
   "source": [
    "a = np.linspace(0, 2, 9) # 9 numbers from 0 to 2\n",
    "print(a)\n",
    "b = np.linspace(0, 2 * np.pi, 100)  # useful to evaluate function at lots of points\n",
    "print(b)"
   ]
  },
  {
   "cell_type": "markdown",
   "id": "09953aef",
   "metadata": {},
   "source": [
    "### Basic Operations\n",
    "\n",
    "Arithmetic operations on NumPy arrays apply element-wise:"
   ]
  },
  {
   "cell_type": "code",
   "execution_count": null,
   "id": "ef4a0c30",
   "metadata": {},
   "outputs": [],
   "source": [
    "a = np.array([20, 30, 40, 50])\n",
    "b = np.arange(4)\n",
    "print(a,b)\n",
    "c = a - b   # Element-wise subtraction\n",
    "print(c)\n",
    "d = b**2    # Element-wise exponentiation\n",
    "print(d)\n",
    "e = 10 * np.sin(a)   # Element-wise sine\n",
    "print(e)"
   ]
  },
  {
   "cell_type": "markdown",
   "id": "57b3e0fe",
   "metadata": {},
   "source": [
    "**Matrix multiplication**: The `*` operator in NumPY performs element-wise multiplication, not matrix multiplication. Use the `@` operator, `.dot`, `np.dot()`, or `np.matmul()` for matrix multiplication:"
   ]
  },
  {
   "cell_type": "code",
   "execution_count": null,
   "id": "568f4b01",
   "metadata": {},
   "outputs": [],
   "source": [
    "A = np.array([[1, 1], [0, 1]])\n",
    "B = np.array([[2, 0], [3, 4]])\n",
    "print(A)\n",
    "print(B)\n",
    "print(A * B)        # Element-wise multiplication\n",
    "print(A @ B)        # Matrix multiplication\n",
    "print(A.dot(B))         # Matrix multiplication\n",
    "print(np.dot(A, B))     # Matrix multiplication\n",
    "print(np.matmul(A,B))   # Matrix multiplication"
   ]
  },
  {
   "cell_type": "markdown",
   "id": "6c5feab7",
   "metadata": {},
   "source": [
    "**Python list vs. NumPy array**: A key difference between a Python list and a NumPy array is how they handle mathematical operations. While both can store numbers like integers or floats, you cannot perform element-wise mathematical operations directly on a list. In contrast, NumPy arrays are designed for such operations.\n",
    "\n",
    "For example, with a NumPy array, you can perform operations like addition, multiplication, and exponentiation directly, while with a Python list, these operations do not behave as expected:"
   ]
  },
  {
   "cell_type": "code",
   "execution_count": null,
   "id": "472f999f",
   "metadata": {},
   "outputs": [],
   "source": [
    "# NumPy array\n",
    "a = np.array([1, 2, 3])\n",
    "print(a + a)   # [2 4 6]\n",
    "print(a * 3)   # [3 6 9]\n",
    "print(a ** 2)  # [1 4 9]"
   ]
  },
  {
   "cell_type": "code",
   "execution_count": null,
   "id": "bc055372",
   "metadata": {},
   "outputs": [],
   "source": [
    "# Python list\n",
    "b = [1, 2, 3]\n",
    "print(b + b)   # [1, 2, 3, 1, 2, 3] (concatenation, not addition)\n",
    "print(b * 3)   # [1, 2, 3, 1, 2, 3, 1, 2, 3] (repetition, not multiplication)\n",
    "print(b ** 2)  # Error: unsupported operand type(s) for ** or pow()"
   ]
  },
  {
   "cell_type": "markdown",
   "id": "52171c91",
   "metadata": {},
   "source": [
    "NumPy arrays are optimized for numerical and matrix computations, making them far more efficient for mathematical operations compared to Python lists."
   ]
  },
  {
   "cell_type": "markdown",
   "id": "9515fdee",
   "metadata": {},
   "source": [
    "### Understanding NumPy Dimensions\n",
    "\n",
    "NumPy arrays can have zero, one, or multiple dimensions. These dimensions (called **axes**) determine how arrays behave during indexing, broadcasting, and matrix operations. Even small syntax differences can lead to very different shapes.\n",
    "\n",
    "#### Scalar Arrays: \n",
    "A **0D array** is essentially a NumPy-wrapped scalar. It behaves like a number but supports NumPy operations."
   ]
  },
  {
   "cell_type": "code",
   "execution_count": null,
   "id": "5d90f83d",
   "metadata": {},
   "outputs": [],
   "source": [
    "a = np.array(2)\n",
    "print(a)           # Output: 2\n",
    "print(a.shape)     # Output: () — scalar has no dimensions\n",
    "print(a.ndim)      # Output: 0 — zero-dimensional array"
   ]
  },
  {
   "cell_type": "markdown",
   "id": "8634c7c2",
   "metadata": {},
   "source": [
    "#### 1D Arrays: Subtle Syntax Differences\n",
    "Both `b` and `c` are 1D arrays with one element. The trailing comma in `[2,]` is optional — it just emphasizes that this is a sequence."
   ]
  },
  {
   "cell_type": "code",
   "execution_count": null,
   "id": "5c67d19d",
   "metadata": {},
   "outputs": [],
   "source": [
    "b = np.array([2])  # 1D array with one element\n",
    "c = np.array([2,]) # 1D array with one element\n",
    "d = np.array([1,2,3,4,5])   # 1D array with 5 elements\n",
    "print(b.shape)     # (1,)\n",
    "print(c.shape)     # (1,)\n",
    "print(d.shape)     # (5,)\n",
    "print(b.ndim)      # 1"
   ]
  },
  {
   "cell_type": "markdown",
   "id": "f3639d45",
   "metadata": {},
   "source": [
    "### 2D Arrays: Row vs Column Vectors\n",
    "The shapes matter when performing matrix multiplication, reshaping, or feeding data into ML models."
   ]
  },
  {
   "cell_type": "code",
   "execution_count": null,
   "id": "4a810f0c",
   "metadata": {},
   "outputs": [],
   "source": [
    "x = np.array([[2]])        # shape: (1, 1)\n",
    "y = np.array([[1, 2, 3]])  # shape: (1, 3) — row vector\n",
    "z = np.array([[1], [2], [3]])  # shape: (3, 1) — column vector\n",
    "\n",
    "print(x.shape)\n",
    "print(y.shape)\n",
    "print(z.shape)"
   ]
  },
  {
   "cell_type": "markdown",
   "id": "5f0949da",
   "metadata": {},
   "source": [
    "#### Quick Check\n",
    "Use `.ndim` to check the number of dimensions and `.shape` to inspect the size along each axis."
   ]
  },
  {
   "cell_type": "code",
   "execution_count": null,
   "id": "af92dcc7",
   "metadata": {},
   "outputs": [],
   "source": [
    "print(np.array(2).ndim)         # 0\n",
    "print(np.array([2]).ndim)       # 1\n",
    "print(np.array([[2]]).ndim)     # 2"
   ]
  },
  {
   "cell_type": "markdown",
   "id": "80a8976a",
   "metadata": {},
   "source": [
    "### Indexing, Slicing, and Iteration\n",
    "NumPy arrays can be indexed and sliced similarly to Python lists:"
   ]
  },
  {
   "cell_type": "code",
   "execution_count": null,
   "id": "02062a24",
   "metadata": {},
   "outputs": [],
   "source": [
    "a = np.arange(10)**3\n",
    "print(a)\n",
    "print(a[2])     # access an element\n",
    "print(a[1:5])   # from index 1 to 5, exclusive\n",
    "print(a[1:5:1]) # from index 1 to 5, exclusive, step 1\n",
    "print(a[1:5:2]) # from index 1 to 5, exclusive, step 2\n",
    "print(a[::-1])  # Reverse the array\n",
    "print(a[1:])    # from index 1 to the end\n",
    "print(a[:4])    # equivalent to a[0:4]\n",
    "print(a[-4:-2]) # negative indices\n",
    "\n",
    "# equivalent to a[0:6:2] = 1000;\n",
    "# from start to position 6, exclusive, set every 2nd element to 1000\n",
    "a[:6:2] = 1000\n",
    "print(a)"
   ]
  },
  {
   "cell_type": "markdown",
   "id": "935febd4",
   "metadata": {},
   "source": [
    "Two-dimensional arrays can be indexed like matrices:"
   ]
  },
  {
   "cell_type": "code",
   "execution_count": null,
   "id": "97e864b2",
   "metadata": {},
   "outputs": [],
   "source": [
    "arr2 = np.array([[1,2,3,4,5],[6,7,8,9,10]])\n",
    "print(arr2)\n",
    "print(arr2[0,:]) # first row\n",
    "print(arr2[:,4]) # last column\n",
    "print(arr2[1,1:4]) # second row, columns 1 to 4 (exclusive)"
   ]
  },
  {
   "cell_type": "markdown",
   "id": "7d5b11df",
   "metadata": {},
   "source": [
    "### NumPy Manipulation Routines\n",
    "\n",
    "NumPy provides many routines for reshaping, flattening, and manipulating arrays:"
   ]
  },
  {
   "cell_type": "code",
   "execution_count": null,
   "id": "0d245f93",
   "metadata": {},
   "outputs": [],
   "source": [
    "x = np.array([[1,2,3],[4,5,6]])\n",
    "print(x)\n",
    "print(np.shape(x)) # returns the array shape or matrix dimension\n",
    "print(x.shape)     # shape is a property of numpy.array"
   ]
  },
  {
   "cell_type": "code",
   "execution_count": null,
   "id": "97b4ac1e",
   "metadata": {},
   "outputs": [],
   "source": [
    "# we can change the array shape\n",
    "y = np.reshape(x,[3,2])\n",
    "print(y)\n",
    "print(y.shape)     #  array shape "
   ]
  },
  {
   "cell_type": "code",
   "execution_count": null,
   "id": "5b95e6a2",
   "metadata": {},
   "outputs": [],
   "source": [
    "# flatten an array\n",
    "z = x.flatten()\n",
    "print(z)\n",
    "print(z.shape)"
   ]
  },
  {
   "cell_type": "code",
   "execution_count": null,
   "id": "ec0d7d51",
   "metadata": {},
   "outputs": [],
   "source": [
    "# transpose\n",
    "y = x.T  # matrix transpose of x\n",
    "print(y)\n",
    "z = np.transpose(x)  # same as x.T\n",
    "print(z)"
   ]
  },
  {
   "cell_type": "code",
   "execution_count": null,
   "id": "bcbf975a",
   "metadata": {},
   "outputs": [],
   "source": [
    "# Insert \n",
    "x = np.array([[1,2,3],[4,5,6]])\n",
    "print(x)\n",
    "y = np.insert(x, [1], [[3,4,5]], axis=0)  # axis = 0 means the row \n",
    "print(y)\n",
    "z = np.insert(x, [1], [[3],[4]], axis=1)  # axis = 0 means the column \n",
    "print(z)\n",
    "\n",
    "\n"
   ]
  },
  {
   "cell_type": "code",
   "execution_count": null,
   "id": "ec717d54",
   "metadata": {},
   "outputs": [],
   "source": [
    "# Flip\n",
    "y = np.fliplr(x) # reverse the order elements along the row axis (or reverse left and right)\n",
    "print(y)\n",
    "y = np.flipud(x) # reverse the order elements along the col axis (or reverse up and down)\n",
    "print(y)"
   ]
  },
  {
   "cell_type": "markdown",
   "id": "8df6374a",
   "metadata": {},
   "source": [
    "### Linear Algebra with `numpy.linalg` \n",
    "\n",
    "NumPy's linalg submodule provides many linear algebra functions:\n",
    "\n",
    "Reference: `https://numpy.org/doc/stable/reference/routines.linalg.html#module-numpy.linalg`"
   ]
  },
  {
   "cell_type": "code",
   "execution_count": null,
   "id": "1534502d",
   "metadata": {},
   "outputs": [],
   "source": [
    "A = np.array([[1,2],[3,4]])\n",
    "print(np.linalg.det(A)) # determinant of A\n",
    "print(np.linalg.inv(A)) # inverse of A\n",
    "w, v = np.linalg.eig(A) # eigen values and normalized eigenvectors\n",
    "print(w)\n",
    "print(v) # each column of v is a normlized eigenvector associated with w in the same order. "
   ]
  },
  {
   "cell_type": "markdown",
   "id": "43208431",
   "metadata": {},
   "source": [
    "### Logical Functions\n",
    "\n",
    "NumPy includes several logical functions that can be applied element-wise or to entire arrays:\n"
   ]
  },
  {
   "cell_type": "code",
   "execution_count": null,
   "id": "d75becf8",
   "metadata": {},
   "outputs": [],
   "source": [
    "x = np.array([0,1,1]) # x is a numpy array\n",
    "print(x == 0)        # check if each element is zero\n",
    "print(np.all(x==0))  # check if all elements are zero\n",
    "print(np.any(x==0))  # check if any elemnent is zero\n",
    "print((x==0).all())  # check if all elements are zero\n",
    "print((x==0).any())  # check if any elemnent is zero"
   ]
  },
  {
   "cell_type": "markdown",
   "id": "b8fa025b",
   "metadata": {},
   "source": [
    "Python lists do not have `all()` method\n"
   ]
  },
  {
   "cell_type": "code",
   "execution_count": null,
   "id": "9306ae10",
   "metadata": {},
   "outputs": [],
   "source": [
    "y=[0,1,1]            # y is a list\n",
    "print(np.all(y==0))  # np.all() takes a list argument\n",
    "print((y==0).all())  # a list object does not have all() method."
   ]
  },
  {
   "cell_type": "markdown",
   "id": "087964dc",
   "metadata": {},
   "source": [
    "## 📊 Matplotlib Fundamentals\n",
    "\n",
    "Matplotlib is Python’s most widely used plotting library. It allows you to visualize data, inspect trends, and communicate results clearly. In this section, we’ll use `matplotlib.pyplot` to create basic plots and annotate them for clarity.\n",
    "\n",
    "Reference: [Matplotlib Quick Start Guide](https://matplotlib.org/stable/users/explain/quick_start.html)\n",
    "\n",
    "\n",
    "### Creating a Simple Line Plot\n"
   ]
  },
  {
   "cell_type": "code",
   "execution_count": null,
   "id": "da351651",
   "metadata": {},
   "outputs": [],
   "source": [
    "import numpy as np\n",
    "import matplotlib.pyplot as plt\n",
    "\n",
    "x = np.linspace(0, 2 * np.pi, 100)\n",
    "y = np.sin(x)\n",
    "\n",
    "plt.plot(x, y)\n",
    "plt.title(\"Sine Wave\")\n",
    "plt.xlabel(\"x\")\n",
    "plt.ylabel(\"sin(x)\")\n",
    "plt.grid(True)\n",
    "plt.show()"
   ]
  },
  {
   "cell_type": "markdown",
   "id": "27074f3e",
   "metadata": {},
   "source": [
    "### Customizing Plot Appearance\n"
   ]
  },
  {
   "cell_type": "code",
   "execution_count": null,
   "id": "9f9a186d",
   "metadata": {},
   "outputs": [],
   "source": [
    "x = np.linspace(0, 2 * np.pi, 100)\n",
    "y1 = np.sin(x)\n",
    "y2 = np.cos(x)\n",
    "\n",
    "plt.plot(x, y1, label='sin(x)', color='blue', linestyle='--')\n",
    "plt.plot(x, y2, label='cos(x)', color='red', linewidth=2)\n",
    "plt.title(\"Trigonometric Functions\")\n",
    "plt.xlabel(\"Angle (radians)\")\n",
    "plt.ylabel(\"Value\")\n",
    "plt.legend()\n",
    "plt.grid(True)\n",
    "plt.show()"
   ]
  },
  {
   "cell_type": "markdown",
   "id": "6b04ff8b",
   "metadata": {},
   "source": [
    "### Scatter Plot\n"
   ]
  },
  {
   "cell_type": "code",
   "execution_count": null,
   "id": "2841cf3d",
   "metadata": {},
   "outputs": [],
   "source": [
    "x = np.random.rand(50)\n",
    "y = np.random.rand(50)\n",
    "\n",
    "plt.scatter(x, y, color='green', marker='o')\n",
    "plt.title(\"Random Scatter\")\n",
    "plt.xlabel(\"x\")\n",
    "plt.ylabel(\"y\")\n",
    "plt.grid(True)\n",
    "plt.show()"
   ]
  },
  {
   "cell_type": "markdown",
   "id": "e8a25cc1",
   "metadata": {},
   "source": [
    "### Subplots\n"
   ]
  },
  {
   "cell_type": "code",
   "execution_count": null,
   "id": "0c0cbf4a",
   "metadata": {},
   "outputs": [],
   "source": [
    "x = np.linspace(0, 2 * np.pi, 100)\n",
    "y1 = np.sin(x)\n",
    "y2 = np.cos(x)\n",
    "\n",
    "fig, axs = plt.subplots(2)\n",
    "axs[0].plot(x, y1, 'tab:blue')\n",
    "axs[0].set_title('sin(x)')\n",
    "axs[1].plot(x, y2, 'tab:orange')\n",
    "axs[1].set_title('cos(x)')\n",
    "plt.tight_layout()\n",
    "plt.show()"
   ]
  },
  {
   "cell_type": "markdown",
   "id": "ae5bd7df",
   "metadata": {},
   "source": [
    "### Histogram\n"
   ]
  },
  {
   "cell_type": "code",
   "execution_count": null,
   "id": "580f041f",
   "metadata": {},
   "outputs": [],
   "source": [
    "data = np.random.normal(0, 1, 1000)\n",
    "\n",
    "plt.hist(data, bins=30, color='purple', edgecolor='black')\n",
    "plt.title(\"Histogram of Normal Distribution\")\n",
    "plt.xlabel(\"Value\")\n",
    "plt.ylabel(\"Frequency\")\n",
    "plt.show()"
   ]
  },
  {
   "cell_type": "markdown",
   "id": "b69dfa47",
   "metadata": {},
   "source": [
    "### 🧪 Mini Challenge\n",
    "Use NumPy to generate a noisy sine wave and plot it alongside the clean signal. Add a legend and grid."
   ]
  },
  {
   "cell_type": "code",
   "execution_count": null,
   "id": "2f2c7cc6",
   "metadata": {},
   "outputs": [],
   "source": [
    "x = np.linspace(0, 2 * np.pi, 100)\n",
    "y_clean = np.sin(x)\n",
    "noise = 0.3 * np.random.randn(100)\n",
    "y_noisy = y_clean + noise\n",
    "\n",
    "plt.plot(x, y_clean, label='Clean Signal')\n",
    "plt.plot(x, y_noisy, label='Noisy Signal', alpha=0.7)\n",
    "plt.title(\"Noisy vs Clean Sine Wave\")\n",
    "plt.xlabel(\"x\")\n",
    "plt.ylabel(\"Amplitude\")\n",
    "plt.legend()\n",
    "plt.grid(True)\n",
    "plt.show()"
   ]
  }
 ],
 "metadata": {
  "kernelspec": {
   "display_name": ".venv",
   "language": "python",
   "name": "python3"
  },
  "language_info": {
   "codemirror_mode": {
    "name": "ipython",
    "version": 3
   },
   "file_extension": ".py",
   "mimetype": "text/x-python",
   "name": "python",
   "nbconvert_exporter": "python",
   "pygments_lexer": "ipython3",
   "version": "3.12.10"
  }
 },
 "nbformat": 4,
 "nbformat_minor": 5
}
