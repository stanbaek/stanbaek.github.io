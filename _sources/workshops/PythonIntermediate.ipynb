{
  "cells": [
    {
      "cell_type": "markdown",
      "id": "31f0273c",
      "metadata": {},
      "source": [
        "# 🗃️ Containers & Pythonic\n",
        "\n",
        "[![Open In Colab](https://colab.research.google.com/assets/colab-badge.svg)](https://colab.research.google.com/github/stanbaek/stanbaek.github.io/blob/main/docs/workshops/PythonIntermediate.ipynb)\n",
        "\n",
        "\n",
        "\n",
        "**Goal:** Strengthen understanding of Python’s built‑in containers and idioms.  \n",
        "**Time:** 50 minutes  \n",
        "**Prereqs:** Variables, loops, basic functions. No external packages required.\n"
      ]
    },
    {
      "cell_type": "markdown",
      "id": "55b15bd3",
      "metadata": {},
      "source": [
        "## Agenda\n",
        "- Built‑in containers: lists, tuples, sets, dicts  \n",
        "- Advanced usage & idioms  \n",
        "- Mini‑project (Grades *and* Sensor tracks included)  \n",
        "- Wrap‑up & resources"
      ]
    },
    {
      "cell_type": "markdown",
      "id": "4666e26f",
      "metadata": {},
      "source": [
        "## 1. Built‑in Containers\n",
        "### Lists\n",
        "Lists are `mutable ordered` sequences of objects, created with square brackets. Common ops: `append`, `extend`, `insert`, `pop`, `sort`."
      ]
    },
    {
      "cell_type": "code",
      "execution_count": 1,
      "id": "12c6d02f",
      "metadata": {},
      "outputs": [
        {
          "name": "stdout",
          "output_type": "stream",
          "text": [
            "[10, 25, 20, 40]\n"
          ]
        }
      ],
      "source": [
        "nums = [10, 30, 20]\n",
        "nums.append(40)\n",
        "nums[1] = 25\n",
        "print(nums)"
      ]
    },
    {
      "cell_type": "markdown",
      "id": "4f130ab9",
      "metadata": {},
      "source": [
        "Lists are indexed by integers, starting with zero. Use the indexing operator to access and modify individual items of the list:"
      ]
    },
    {
      "cell_type": "code",
      "execution_count": 2,
      "id": "5ab920b6",
      "metadata": {},
      "outputs": [
        {
          "name": "stdout",
          "output_type": "stream",
          "text": [
            "['Jeff', 'Mark', 'Thomas', 'Ann', 'Phil', 'Paula']\n"
          ]
        }
      ],
      "source": [
        "names = [\"Dave\", \"Mark\", \"Ann\", \"Phil\"]\n",
        "names[0] = \"Jeff\"\n",
        "names.append(\"Paula\")\n",
        "names.insert(2, \"Thomas\")\n",
        "print(names)"
      ]
    },
    {
      "cell_type": "markdown",
      "id": "51036b63",
      "metadata": {},
      "source": [
        "Lists can be sliced and concatenated using:\n",
        "```Python\n",
        "x[start:stop:stride]\n",
        "```"
      ]
    },
    {
      "cell_type": "code",
      "execution_count": 3,
      "id": "45b9f57c",
      "metadata": {},
      "outputs": [
        {
          "name": "stdout",
          "output_type": "stream",
          "text": [
            "[0, 1, 2, 'e', 3, 'pi']\n",
            "[0, 1]\n",
            "[0, 1]\n",
            "[2, 'e', 3]\n",
            "[2, 'e', 3, 'pi']\n",
            "[3, 'pi']\n",
            "[0, 1, 2, 'e', 3, 'pi']\n",
            "[0, 1, 2, 'e', 3, 'pi', 4, 5]\n",
            "[0, 1, 2, 'e', 3, 'pi', 4, 5, [6, 7, 8]]\n"
          ]
        }
      ],
      "source": [
        "mixed = [0, 1, 2, 'e', 3, 'pi']\n",
        "print(mixed)\n",
        "print(mixed[0:2])\n",
        "print(mixed[:2])\n",
        "print(mixed[2:5])\n",
        "print(mixed[2:])\n",
        "print(mixed[-2:])\n",
        "mixed[5] = 'pi'\n",
        "print(mixed)\n",
        "mixed.extend([4,5])\n",
        "print(mixed)\n",
        "mixed.append([6,7,8])\n",
        "print(mixed)\n"
      ]
    },
    {
      "cell_type": "markdown",
      "id": "ecfba663",
      "metadata": {},
      "source": [
        "Use the plus `+` operator to **concatenate** lists:"
      ]
    },
    {
      "cell_type": "code",
      "execution_count": 4,
      "id": "64c97a92",
      "metadata": {},
      "outputs": [
        {
          "name": "stdout",
          "output_type": "stream",
          "text": [
            "[1, 2, 3, 4, 5, 6]\n"
          ]
        }
      ],
      "source": [
        "a = [1,2,3]+[4,5,6]\n",
        "print(a)"
      ]
    },
    {
      "cell_type": "markdown",
      "id": "0a515d0e",
      "metadata": {},
      "source": [
        "An empty list can be created by one of two ways"
      ]
    },
    {
      "cell_type": "code",
      "execution_count": 5,
      "id": "4bf87de4",
      "metadata": {},
      "outputs": [
        {
          "name": "stdout",
          "output_type": "stream",
          "text": [
            "[]\n",
            "[]\n"
          ]
        }
      ],
      "source": [
        "names = []\n",
        "print(names)\n",
        "names = list()\n",
        "print(names)"
      ]
    },
    {
      "cell_type": "markdown",
      "id": "88b45b21",
      "metadata": {},
      "source": [
        "Lists can contain any kind of Python object, including other lists, as in the following example:"
      ]
    },
    {
      "cell_type": "code",
      "execution_count": 6,
      "id": "c2d6da8c",
      "metadata": {},
      "outputs": [
        {
          "name": "stdout",
          "output_type": "stream",
          "text": [
            "[1, 'Dave', 3.14, ['Mark', 7, 9, [0, 101]], 10]\n"
          ]
        }
      ],
      "source": [
        "a = [1, \"Dave\", 3.14, [\"Mark\", 7, 9, [0, 101]], 10]\n",
        "print(a)"
      ]
    },
    {
      "cell_type": "markdown",
      "id": "8fb89c63",
      "metadata": {},
      "source": [
        "Items contained in nested lists are accessed by applying more than one indexing operation, as follows"
      ]
    },
    {
      "cell_type": "code",
      "execution_count": 7,
      "id": "2017b83f",
      "metadata": {},
      "outputs": [
        {
          "name": "stdout",
          "output_type": "stream",
          "text": [
            "Dave\n",
            "['Mark', 7, 9, [0, 101]]\n",
            "7\n",
            "101\n"
          ]
        }
      ],
      "source": [
        "print(a[1])\n",
        "print(a[3])\n",
        "print(a[3][1])\n",
        "print(a[3][3][1])"
      ]
    },
    {
      "cell_type": "markdown",
      "id": "3960c048",
      "metadata": {},
      "source": [
        "### Tuples\n",
        "Tuples are **immutable ordered** sequences of objects. These simple data structures are great for fixed‑size records. You can create a tuple by enclosing group of values in parentheses like this: "
      ]
    },
    {
      "cell_type": "code",
      "execution_count": 8,
      "id": "ad939369",
      "metadata": {},
      "outputs": [],
      "source": [
        "weekdays = (\"Mon\", \"Tue\", \"Wed\", \"Thu\", \"Fri\")"
      ]
    },
    {
      "cell_type": "markdown",
      "id": "ca01ec56",
      "metadata": {},
      "source": [
        "Python often recognizes that a tuple is intended even if the parentheses are missing"
      ]
    },
    {
      "cell_type": "code",
      "execution_count": 9,
      "id": "53e091fa",
      "metadata": {},
      "outputs": [
        {
          "name": "stdout",
          "output_type": "stream",
          "text": [
            "('Mon', 'Tue', 'Wed', 'Thu', 'Fri')\n"
          ]
        }
      ],
      "source": [
        "weekdays = \"Mon\", \"Tue\", \"Wed\", \"Thu\", \"Fri\"\n",
        "print(weekdays)"
      ]
    },
    {
      "cell_type": "code",
      "execution_count": 10,
      "id": "86644055",
      "metadata": {},
      "outputs": [
        {
          "name": "stdout",
          "output_type": "stream",
          "text": [
            "(3.0, 4.0) length: 2\n"
          ]
        }
      ],
      "source": [
        "point = (3.0, 4.0)\n",
        "print(point, \"length:\", len(point))"
      ]
    },
    {
      "cell_type": "markdown",
      "id": "4f6a3556",
      "metadata": {},
      "source": [
        "For completeness, 0- and 1-element tuples can be defined, but have special syntax:"
      ]
    },
    {
      "cell_type": "code",
      "execution_count": 11,
      "id": "ee43c506",
      "metadata": {},
      "outputs": [
        {
          "name": "stdout",
          "output_type": "stream",
          "text": [
            "<class 'tuple'>\n",
            "<class 'tuple'>\n",
            "<class 'tuple'>\n",
            "<class 'int'>\n",
            "<class 'int'>\n"
          ]
        }
      ],
      "source": [
        "a = ()    # 0-tuple, empty tuple\n",
        "b = (1,)  # 1-tuple  \n",
        "c = 1,    # 1-tuple\n",
        "print(type(a))\n",
        "print(type(b))\n",
        "print(type(c))\n",
        "b = (1)   # not a tuple - IMPORTANT\n",
        "c = 1     # not a tuple\n",
        "print(type(b))\n",
        "print(type(c))"
      ]
    },
    {
      "cell_type": "markdown",
      "id": "6140bafd",
      "metadata": {},
      "source": [
        "The values in a tuple can be extracted by numerical index just like a list. However, it is more common to unpack tuples into a set of variables like this"
      ]
    },
    {
      "cell_type": "code",
      "execution_count": 12,
      "id": "ced693d7",
      "metadata": {},
      "outputs": [
        {
          "name": "stdout",
          "output_type": "stream",
          "text": [
            "GOOG 100\n",
            "GOOG 100\n"
          ]
        }
      ],
      "source": [
        "stock = \"GOOG\", 100, 490.10\n",
        "name, shares = stock[0:2]\n",
        "print(name, shares)\n",
        "name, shares, _ = stock\n",
        "print(name, shares)\n"
      ]
    },
    {
      "cell_type": "markdown",
      "id": "0571e9c2",
      "metadata": {},
      "source": [
        "Although tuples support most of the same operations as lists, such as indexing, slicing, and concatenation, the contents of a tuple `cannot be modified` after creation.  That is, you cannot replace, delete, or append new elements to an exisiting tuple. \n",
        "\n",
        "```python\n",
        "print(stock[1]) \n",
        "stock[1] = 200  # error\n",
        "```\n",
        "\n",
        "**Note**: Python tuples and strings are `immutable`. This means that once it is created, its contents cannot be changed — elements cannot be added, removed, or altered.  On the other hand, Python lists and sets are `mutable`.\n"
      ]
    },
    {
      "cell_type": "markdown",
      "id": "a982e26a",
      "metadata": {},
      "source": [
        "### Sets\n",
        "A set in Python is an **unordered, mutable** collection that stores unique elements. It allows for fast membership testing, making it efficient to check whether an item exists in the set. Sets also support mathematical operations such as union (|), intersection (&), and difference (-).\n",
        "\n",
        "You can create a set using curly braces `{}` or the `set()` constructor:"
      ]
    },
    {
      "cell_type": "code",
      "execution_count": 13,
      "id": "80a2f6d2",
      "metadata": {},
      "outputs": [
        {
          "name": "stdout",
          "output_type": "stream",
          "text": [
            "{'apple', 'banana', 'cherry'}\n",
            "{'blue', 'red', 'green'}\n"
          ]
        }
      ],
      "source": [
        "fruits = {\"apple\", \"banana\", \"cherry\"}\n",
        "print(fruits)\n",
        "\n",
        "colors = set([\"red\", \"green\", \"blue\"])\n",
        "print(colors)"
      ]
    },
    {
      "cell_type": "markdown",
      "id": "384cd922",
      "metadata": {},
      "source": [
        "Sets automatically eliminate duplicate values:"
      ]
    },
    {
      "cell_type": "code",
      "execution_count": 14,
      "id": "5ede7cdc",
      "metadata": {},
      "outputs": [
        {
          "name": "stdout",
          "output_type": "stream",
          "text": [
            "{1, 2, 3, 4, 5}\n"
          ]
        }
      ],
      "source": [
        "nums = {1, 2, 2, 3, 4, 4, 5}\n",
        "print(nums)  # Output: {1, 2, 3, 4, 5}"
      ]
    },
    {
      "cell_type": "markdown",
      "id": "8d3cb7d1",
      "metadata": {},
      "source": [
        " Sets are **unordered**, so they do not support indexing or slicing:\n",
        "\n",
        "```python\n",
        "print(fruits[0])  # Error: 'set' object is not subscriptable\n",
        "```"
      ]
    },
    {
      "cell_type": "markdown",
      "id": "3bd025d5",
      "metadata": {},
      "source": [
        "You can add elements to a set using the `.add()` method:"
      ]
    },
    {
      "cell_type": "code",
      "execution_count": 15,
      "id": "8fade093",
      "metadata": {},
      "outputs": [
        {
          "name": "stdout",
          "output_type": "stream",
          "text": [
            "{'apple', 'orange', 'banana', 'cherry'}\n"
          ]
        }
      ],
      "source": [
        "fruits.add(\"orange\")\n",
        "print(fruits)"
      ]
    },
    {
      "cell_type": "markdown",
      "id": "7bdfdab3",
      "metadata": {},
      "source": [
        "Sets support **fast membership testing** using the `in` keyword:"
      ]
    },
    {
      "cell_type": "code",
      "execution_count": 16,
      "id": "47dbd8ac",
      "metadata": {},
      "outputs": [
        {
          "name": "stdout",
          "output_type": "stream",
          "text": [
            "True\n",
            "False\n"
          ]
        }
      ],
      "source": [
        "print(\"apple\" in fruits)\n",
        "print(\"grape\" in fruits)"
      ]
    },
    {
      "cell_type": "markdown",
      "id": "eb759924",
      "metadata": {},
      "source": [
        "Sets support powerful **mathematical operations**:"
      ]
    },
    {
      "cell_type": "code",
      "execution_count": 17,
      "id": "b3e7e154",
      "metadata": {},
      "outputs": [
        {
          "name": "stdout",
          "output_type": "stream",
          "text": [
            "{1, 2, 3, 4, 5}\n",
            "{3}\n",
            "{1, 2}\n"
          ]
        }
      ],
      "source": [
        "# Union (`|`) combines elements from both sets:\n",
        "a = {1, 2, 3}\n",
        "b = {3, 4, 5}\n",
        "print(a | b)  # Output: {1, 2, 3, 4, 5}\n",
        "\n",
        "# Intersection (`&`) returns common elements:\n",
        "print(a & b)  # Output: {3}\n",
        "\n",
        "# Difference** (`-`) returns elements in one set but not the other:\n",
        "\n",
        "print(a - b)  # Output: {1, 2}\n"
      ]
    },
    {
      "cell_type": "markdown",
      "id": "3b977ccc",
      "metadata": {},
      "source": [
        "You can also use `.union()`, `.intersection()`, and `.difference()` methods:"
      ]
    },
    {
      "cell_type": "code",
      "execution_count": 18,
      "id": "86f9fba2",
      "metadata": {},
      "outputs": [
        {
          "name": "stdout",
          "output_type": "stream",
          "text": [
            "{1, 2, 3, 4, 5}\n",
            "{3}\n",
            "{1, 2}\n"
          ]
        }
      ],
      "source": [
        "print(a.union(b))\n",
        "print(a.intersection(b))\n",
        "print(a.difference(b))"
      ]
    },
    {
      "cell_type": "markdown",
      "id": "dff307a1",
      "metadata": {},
      "source": [
        "**Note**: Sets are ideal for storing **unique items** and performing **membership tests** or **set algebra**. Unlike lists and tuples, sets do not maintain order and do not support indexing. They are `mutable`, but their elements must be `immutable` types (e.g., numbers, strings, tuples)."
      ]
    },
    {
      "cell_type": "markdown",
      "id": "ecd28697",
      "metadata": {},
      "source": [
        "### Dictionaries\n",
        "\n",
        "A dictionary is a **mutable**, **unordered** collection of **key-value pairs**. You can create one using curly braces `{}` or the `dict()` constructor:"
      ]
    },
    {
      "cell_type": "code",
      "execution_count": 19,
      "id": "a4c8dcba",
      "metadata": {},
      "outputs": [
        {
          "name": "stdout",
          "output_type": "stream",
          "text": [
            "{'name': 'Alice', 'age': 30}\n"
          ]
        }
      ],
      "source": [
        "person = {\"name\": \"Alice\", \"age\": 30}\n",
        "print(person)\n",
        "empty_dict = dict()\n"
      ]
    },
    {
      "cell_type": "markdown",
      "id": "0f7aba3d",
      "metadata": {},
      "source": [
        "Use square brackets to access values by key, and assign new values or add new pairs:"
      ]
    },
    {
      "cell_type": "code",
      "execution_count": 20,
      "id": "25a4b65f",
      "metadata": {},
      "outputs": [
        {
          "name": "stdout",
          "output_type": "stream",
          "text": [
            "Alice\n",
            "{'name': 'Alice', 'age': 31, 'email': 'alice@example.com'}\n"
          ]
        }
      ],
      "source": [
        "print(person[\"name\"])\n",
        "person[\"age\"] = 31\n",
        "person[\"email\"] = \"alice@example.com\"\n",
        "print(person)"
      ]
    },
    {
      "cell_type": "markdown",
      "id": "f68d4a11",
      "metadata": {},
      "source": [
        "The `.get()` method lets you access values without raising an error if the key is missing:"
      ]
    },
    {
      "cell_type": "code",
      "execution_count": 21,
      "id": "6bdfe37f",
      "metadata": {},
      "outputs": [
        {
          "name": "stdout",
          "output_type": "stream",
          "text": [
            "None\n",
            "N/A\n"
          ]
        }
      ],
      "source": [
        "print(person.get(\"phone\"))        # None\n",
        "print(person.get(\"phone\", \"N/A\")) # N/A"
      ]
    },
    {
      "cell_type": "markdown",
      "id": "b73154a4",
      "metadata": {},
      "source": [
        "Use `.pop()` or `del` to remove key-value pairs:"
      ]
    },
    {
      "cell_type": "code",
      "execution_count": 22,
      "id": "886219c4",
      "metadata": {},
      "outputs": [
        {
          "name": "stdout",
          "output_type": "stream",
          "text": [
            "{'name': 'Alice'}\n"
          ]
        }
      ],
      "source": [
        "person.pop(\"email\")\n",
        "del person[\"age\"]\n",
        "print(person)"
      ]
    },
    {
      "cell_type": "markdown",
      "id": "d003a7f8",
      "metadata": {},
      "source": [
        "You can iterate over keys, values, or both:"
      ]
    },
    {
      "cell_type": "code",
      "execution_count": 23,
      "id": "d2c7c8aa",
      "metadata": {},
      "outputs": [
        {
          "name": "stdout",
          "output_type": "stream",
          "text": [
            "name: Alice\n",
            "age: 31\n",
            "email: alice@example.com\n"
          ]
        }
      ],
      "source": [
        "person[\"age\"] = 31\n",
        "person[\"email\"] = \"alice@example.com\"\n",
        "for key, value in person.items():\n",
        "    print(f\"{key}: {value}\")"
      ]
    },
    {
      "cell_type": "markdown",
      "id": "eaa900be",
      "metadata": {},
      "source": [
        "**Note**: Dictionaries are perfect for storing structured data. Keys must be `immutable` and `unique`, while values can be of any type. Unlike lists, dictionaries use keys—not indices—to access data.\n"
      ]
    },
    {
      "cell_type": "markdown",
      "id": "effb0442",
      "metadata": {},
      "source": [
        "### Strings\n",
        "\n",
        "A string is a `immutable` sequence of characters enclosed in single, double, or triple quotes:"
      ]
    },
    {
      "cell_type": "code",
      "execution_count": 24,
      "id": "6194cf0f",
      "metadata": {},
      "outputs": [
        {
          "name": "stdout",
          "output_type": "stream",
          "text": [
            "Hello\n",
            "Alice\n",
            "This is a multi-line string.\n"
          ]
        }
      ],
      "source": [
        "greeting = \"Hello\"\n",
        "print(greeting)\n",
        "name = 'Alice'\n",
        "print(name)\n",
        "message = \"\"\"This is a multi-line string.\"\"\"\n",
        "print(message)"
      ]
    },
    {
      "cell_type": "markdown",
      "id": "86bb3901",
      "metadata": {},
      "source": [
        "The same type of quote used to start a string must be used to terminate it.  Triple-quoted strings capture all the text that appears prior to the terminating triple quote, as opposed to single- and double-quoted strings, which must be  specified on one logical line.  Triple-quoted strings are useful when the contents of a string literal span multiple lines of text such as the following:"
      ]
    },
    {
      "cell_type": "code",
      "execution_count": 25,
      "id": "f7ceb644",
      "metadata": {},
      "outputs": [
        {
          "name": "stdout",
          "output_type": "stream",
          "text": [
            "Content-type: text/html\n",
            "\n",
            "<h1> Hello World </h1>\n",
            "Click <a href=\"http://www.python.org\">here</a>.\n",
            "\n"
          ]
        }
      ],
      "source": [
        "print('''Content-type: text/html\n",
        "\n",
        "<h1> Hello World </h1>\n",
        "Click <a href=\"http://www.python.org\">here</a>.\n",
        "''')"
      ]
    },
    {
      "cell_type": "markdown",
      "id": "7574bb54",
      "metadata": {},
      "source": [
        "Strings are indexed like lists—use square brackets to access individual characters:"
      ]
    },
    {
      "cell_type": "code",
      "execution_count": 26,
      "id": "08f07a6b",
      "metadata": {},
      "outputs": [
        {
          "name": "stdout",
          "output_type": "stream",
          "text": [
            "H\n",
            "e\n"
          ]
        }
      ],
      "source": [
        "print(greeting[0])   # Output: H\n",
        "print(name[-1])      # Output: e"
      ]
    },
    {
      "cell_type": "markdown",
      "id": "5a251436",
      "metadata": {},
      "source": [
        "Use `+` to join strings and `*` to repeat them:"
      ]
    },
    {
      "cell_type": "code",
      "execution_count": 27,
      "id": "c1336088",
      "metadata": {},
      "outputs": [
        {
          "name": "stdout",
          "output_type": "stream",
          "text": [
            "Hello, Alice!\n",
            "Hi! Hi! Hi! \n"
          ]
        }
      ],
      "source": [
        "full = greeting + \", \" + name + \"!\"\n",
        "print(full)  # 'Hello, Alice!'\n",
        "echo = \"Hi! \" * 3\n",
        "print(echo)  # 'Hi! Hi! Hi! '"
      ]
    },
    {
      "cell_type": "markdown",
      "id": "0e9a78fd",
      "metadata": {},
      "source": [
        "Strings can be sliced using the same syntax as lists:"
      ]
    },
    {
      "cell_type": "code",
      "execution_count": 28,
      "id": "263fda77",
      "metadata": {},
      "outputs": [
        {
          "name": "stdout",
          "output_type": "stream",
          "text": [
            "Pyt\n",
            "Pto\n"
          ]
        }
      ],
      "source": [
        "word = \"Python\"\n",
        "print(word[0:3])   # 'Pyt'\n",
        "print(word[::2])   # 'Pto'"
      ]
    },
    {
      "cell_type": "markdown",
      "id": "891abf4e",
      "metadata": {},
      "source": [
        "Strings are **immutable**, meaning their contents cannot be changed after creation:"
      ]
    },
    {
      "cell_type": "code",
      "execution_count": 29,
      "id": "f7b3f8cb",
      "metadata": {},
      "outputs": [
        {
          "name": "stdout",
          "output_type": "stream",
          "text": [
            "Hello\n"
          ]
        }
      ],
      "source": [
        "text = \"hello\"\n",
        "# text[0] = \"H\"  # Error: strings can't be modified\n",
        "new_text = \"H\" + text[1:]\n",
        "print(new_text)  # 'Hello'"
      ]
    },
    {
      "cell_type": "markdown",
      "id": "a8de4e03",
      "metadata": {},
      "source": [
        "Python offers multiple ways to format strings. Here are some common methods:"
      ]
    },
    {
      "cell_type": "code",
      "execution_count": 30,
      "id": "74b63941",
      "metadata": {},
      "outputs": [
        {
          "name": "stdout",
          "output_type": "stream",
          "text": [
            "The legendary pirate captain is 726.250000 years old.\n",
            "The legendary pirate captain is 726.2500 years old.\n",
            "The legendary pirate captain is   726.2500 years old.\n",
            "The legendary pirate captain is 726 years old.\n",
            "The legendary pirate captain is        726 years old.\n",
            "The legendary pirate captain is 726.25 years old.\n",
            "The legendary pirate captain is 726.2500 years old.\n",
            "The legendary pirate captain is   726.2500 years old.\n",
            "The legendary pirate captain is 726.25 years old.\n",
            "The legendary pirate captain is 726.2500 years old.\n",
            "The legendary pirate captain is   726.2500 years old.\n"
          ]
        }
      ],
      "source": [
        "title = \"The legendary pirate captain\"\n",
        "age = 726.25\n",
        "\n",
        "# method 1: (formatted-string)%(values)\n",
        "print(\"%s is %f years old.\"%(title, age))     # print a string and a floating point\n",
        "print(\"%s is %.4f years old.\"%(title, age))   # 4 decimal places\n",
        "print(\"%s is %10.4f years old.\"%(title, age)) # allocate 10 spaces\n",
        "print(\"%s is %d years old.\"%(title, age))     # print it as integer\n",
        "print(\"%s is %10d years old.\"%(title, age))   # allocate 10 spaces\n",
        "\n",
        "# method 2: (formatted-string).format(values)\n",
        "print(\"{} is {} years old.\".format(title, age)) \n",
        "print(\"{} is {:0.4f} years old.\".format(title, age))\n",
        "print(\"{} is {:10.4f} years old.\".format(title, age))\n",
        "\n",
        "# method 3: f(formatted-string with values)\n",
        "print(f\"{title} is {age} years old.\")\n",
        "print(f\"{title} is {age:.4f} years old.\")\n",
        "print(f\"{title} is {age:10.4f} years old.\")"
      ]
    },
    {
      "cell_type": "markdown",
      "id": "99ff5fe5",
      "metadata": {},
      "source": [
        "**note**: Strings are one of the most commonly used data types in Python. They are `immutable`, support indexing and slicing, and come with a rich set of methods for formatting, searching, and transforming text."
      ]
    },
    {
      "cell_type": "markdown",
      "id": "e5eac226",
      "metadata": {},
      "source": [
        "### Exercise 1\n",
        "Pick the right container for each scenario and write a one‑liner creating it:\n",
        "1) unique student IDs from `[101,102,101,103]`\n",
        "2) 3D position `(x,y,z)` from floats\n",
        "3) gradebook mapping names to grades for `Ana=92, Bo=90, Cat=88`\n",
        "4) recent sensor window for last 5 readings `1..5`\n",
        "\n",
        "*Type your answers in the next cell.*"
      ]
    },
    {
      "cell_type": "code",
      "execution_count": 31,
      "id": "6285b9ce",
      "metadata": {},
      "outputs": [],
      "source": [
        "# Your answers here\n",
        "unique_ids = ...\n",
        "position = ...\n",
        "gradebook = ...\n",
        "window = ...\n",
        "\n",
        "# Quick checks (uncomment when you've written your answers)\n",
        "# assert unique_ids == {101,102,103}\n",
        "# assert isinstance(position, tuple) and len(position) == 3\n",
        "# assert gradebook == {\"Ana\":92, \"Bo\":90, \"Cat\":88}\n",
        "# assert window == [1,2,3,4,5]"
      ]
    },
    {
      "cell_type": "markdown",
      "id": "0065ab2c",
      "metadata": {},
      "source": [
        "## 2. Pythonic Coding\n",
        "\n",
        "`\"Pythonic\"` refers to writing code in a way that is idiomatic and aligns with the principles and style of the Python programming language. It emphasizes readability, simplicity, and elegance, often leveraging Python’s unique features and conventions. \n",
        "\n",
        "### Comprehensions\n",
        "Using list, set, and dictionary comprehensions to write concise and expressive code.\n"
      ]
    },
    {
      "cell_type": "code",
      "execution_count": 32,
      "id": "d16e4ba9",
      "metadata": {},
      "outputs": [
        {
          "name": "stdout",
          "output_type": "stream",
          "text": [
            "[0, 1, 4, 9, 16, 25, 36, 49, 64, 81]\n",
            "{0, 2, 4, 6, 8, 10, 12, 14, 16, 18}\n",
            "{'A': 65, 'C': 67, 'E': 69}\n"
          ]
        }
      ],
      "source": [
        "squares = [n*n for n in range(10)]\n",
        "evens   = {n for n in range(20) if n % 2 == 0}\n",
        "freqs   = {c: ord(c) for c in \"ACE\"}\n",
        "print(squares)\n",
        "print(evens)\n",
        "print(freqs)"
      ]
    },
    {
      "cell_type": "markdown",
      "id": "f0b3cdb6",
      "metadata": {},
      "source": [
        "### Comparing Pythonic vs Non-Pythonic List Construction\n",
        "\n",
        "The following Pythonic version is faster because list comprehensions are optimized internally in C, reducing overhead from repeated method calls like .append() in loops. It also avoids the need to **grow the list dynamically**, which improves memory efficiency."
      ]
    },
    {
      "cell_type": "code",
      "execution_count": 33,
      "id": "e8aae8d2",
      "metadata": {},
      "outputs": [
        {
          "name": "stdout",
          "output_type": "stream",
          "text": [
            "[0, 1, 4, 9, 16, 25, 36, 49, 64, 81]\n",
            "[0, 1, 4, 9, 16, 25, 36, 49, 64, 81]\n"
          ]
        }
      ],
      "source": [
        "# Non-pythonic: the list grows dynamically\n",
        "squares = []\n",
        "for i in range(10):\n",
        "    squares.append(i * i)\n",
        "print(squares)\n",
        "\n",
        "# Pythonic: Concise and much faster\n",
        "squares = []\n",
        "squares = [i * i for i in range(10)]\n",
        "print(squares)"
      ]
    },
    {
      "cell_type": "markdown",
      "id": "c088cc9c",
      "metadata": {},
      "source": [
        "The expression:\n",
        "```python\n",
        "squares = [i * i for i in range(10)]\n",
        "```\n",
        "**does not dynamically grow the list** during execution like `.append()` does. Instead, Python's list comprehension:\n",
        "\n",
        "1. **Pre-allocates memory** for the entire list because the size is known in advance (`range(10)` has 10 elements).\n",
        "2. **Executes in C-level bytecode**, which is much faster than repeatedly calling Python-level methods like `.append()`.\n",
        "\n",
        "This means the list is created in one go, avoiding the overhead of resizing and method calls, which is why it's both faster and more memory-efficient."
      ]
    },
    {
      "cell_type": "markdown",
      "id": "31088b48",
      "metadata": {},
      "source": [
        "### Simplifying Conditional Statements\n",
        "\n",
        "Using Python's expressive syntax to make conditional logic cleaner and more readable.\n",
        "\n",
        "The followng code checks each condition separately, which works but is verbose and harder to maintain.\n"
      ]
    },
    {
      "cell_type": "code",
      "execution_count": 34,
      "id": "8d72b888",
      "metadata": {},
      "outputs": [
        {
          "name": "stdout",
          "output_type": "stream",
          "text": [
            "It is an invalid play.\n"
          ]
        }
      ],
      "source": [
        "# hand = input(\"What would you like to play? \")\n",
        "hand = 'Shears'\n",
        "if hand == \"Rock\":\n",
        "    print(\"It is a valid play.\")\n",
        "elif hand == \"Paper\":\n",
        "    print(\"It is a valid play.\")\n",
        "elif hand == \"Scissors\":\n",
        "    print(\"It is a valid play.\")\n",
        "else:    \n",
        "    print(\"It is an invalid play.\")"
      ]
    },
    {
      "cell_type": "markdown",
      "id": "1e164aed",
      "metadata": {},
      "source": [
        "Combining conditions with `or` reduces repetition and improves clarity."
      ]
    },
    {
      "cell_type": "code",
      "execution_count": 35,
      "id": "83dbe3b8",
      "metadata": {},
      "outputs": [
        {
          "name": "stdout",
          "output_type": "stream",
          "text": [
            "It is an invalid play\n"
          ]
        }
      ],
      "source": [
        "# hand = input(\"What would you like to play? \")\n",
        "hand = 'Shears'\n",
        "if hand == \"Rock\" or hand == \"Paper\" or hand == \"Scissors\":\n",
        "    print(\"It is a valid play\")\n",
        "else:    \n",
        "    print(\"It is an invalid play\")"
      ]
    },
    {
      "cell_type": "markdown",
      "id": "9e6d2aaa",
      "metadata": {},
      "source": [
        "The most **Pythonic** approach uses `in` to check if a value exists in a tuple, making the code concise and elegant.\n"
      ]
    },
    {
      "cell_type": "code",
      "execution_count": 36,
      "id": "5d301da6",
      "metadata": {},
      "outputs": [
        {
          "name": "stdout",
          "output_type": "stream",
          "text": [
            "It is an invalid play\n"
          ]
        }
      ],
      "source": [
        "# hand = input(\"What would you like to play? \")  # This is Pythonic\n",
        "hand = 'Shears'\n",
        "if hand in  (\"Rock\", \"Paper\", \"Scissors\"):  \n",
        "    print(\"It is a valid play\")\n",
        "else:    \n",
        "    print(\"It is an invalid play\")    "
      ]
    },
    {
      "cell_type": "markdown",
      "id": "8c631705",
      "metadata": {},
      "source": [
        "### Ternary Operator\n",
        "\n",
        "Python’s ternary operator provides a compact way to write simple conditional assignments.\n",
        "\n",
        "**Sandard `if-else` Assignment**: This version uses a full `if-else` block to assign a value based on a condition."
      ]
    },
    {
      "cell_type": "code",
      "execution_count": 37,
      "id": "b1a96e3d",
      "metadata": {},
      "outputs": [
        {
          "name": "stdout",
          "output_type": "stream",
          "text": [
            "1\n"
          ]
        }
      ],
      "source": [
        "y = 1\n",
        "\n",
        "if y == 1:\n",
        "    x = 1\n",
        "else: \n",
        "    x = 0\n",
        "print(x)"
      ]
    },
    {
      "cell_type": "markdown",
      "id": "b65d004c",
      "metadata": {},
      "source": [
        "**Pythonic Ternary Expression**: This version condenses the logic into a single line, improving readability and conciseness."
      ]
    },
    {
      "cell_type": "code",
      "execution_count": 38,
      "id": "72776fc0",
      "metadata": {},
      "outputs": [
        {
          "name": "stdout",
          "output_type": "stream",
          "text": [
            "1\n"
          ]
        }
      ],
      "source": [
        "x = 1 if y == 1 else 0  # This is Pythonic\n",
        "print(x)"
      ]
    },
    {
      "cell_type": "markdown",
      "id": "c8803ad0",
      "metadata": {},
      "source": [
        "### Loops\n",
        "\n",
        "Exploring Pythonic ways to iterate over sequences with index tracking.\n",
        "\n",
        "**Manual Indexing with a Loop**: This approach manually tracks the index using a separate variable, which works but is more error-prone and verbose."
      ]
    },
    {
      "cell_type": "code",
      "execution_count": 39,
      "id": "8ebbc06c",
      "metadata": {},
      "outputs": [
        {
          "name": "stdout",
          "output_type": "stream",
          "text": [
            "0 Peter Parker\n",
            "1 Clark Kent\n",
            "2 Wade Wilson\n",
            "3 Bruce Wayne\n",
            "4 Dr. Baek\n"
          ]
        }
      ],
      "source": [
        "# indexing using for loops\n",
        "names = ['Peter Parker', 'Clark Kent', 'Wade Wilson', 'Bruce Wayne', 'Dr. Baek']\n",
        "index = 0\n",
        "for name in names:\n",
        "    print(index, name)\n",
        "    index += 1"
      ]
    },
    {
      "cell_type": "markdown",
      "id": "3dfbd0c4",
      "metadata": {},
      "source": [
        "**Using `enumerate()` for Cleaner Looping**: `enumerate()` simplifies index tracking by automatically pairing each item with its index."
      ]
    },
    {
      "cell_type": "code",
      "execution_count": 40,
      "id": "0b348d79",
      "metadata": {},
      "outputs": [
        {
          "name": "stdout",
          "output_type": "stream",
          "text": [
            "0 Peter Parker\n",
            "1 Clark Kent\n",
            "2 Wade Wilson\n",
            "3 Bruce Wayne\n",
            "4 Dr. Baek\n"
          ]
        }
      ],
      "source": [
        "names = ['Peter Parker', 'Clark Kent', 'Wade Wilson', 'Bruce Wayne', 'Dr. Baek']\n",
        "for index, name in enumerate(names):\n",
        "    print(index, name)"
      ]
    },
    {
      "cell_type": "markdown",
      "id": "0cbc0824",
      "metadata": {},
      "source": [
        "**Starting Index from a Custom Value**: You can customize the starting index with `enumerate(..., start=1)` for more control over output formatting."
      ]
    },
    {
      "cell_type": "code",
      "execution_count": 41,
      "id": "8814e21a",
      "metadata": {},
      "outputs": [
        {
          "name": "stdout",
          "output_type": "stream",
          "text": [
            "1 Peter Parker\n",
            "2 Clark Kent\n",
            "3 Wade Wilson\n",
            "4 Bruce Wayne\n",
            "5 Dr. Baek\n"
          ]
        }
      ],
      "source": [
        "names = ['Peter Parker', 'Clark Kent', 'Wade Wilson', 'Bruce Wayne', 'Dr. Baek']\n",
        "for index, name in enumerate(names, start=1):\n",
        "    print(index, name)"
      ]
    },
    {
      "cell_type": "markdown",
      "id": "10f7131a",
      "metadata": {},
      "source": [
        "### Iterating Through Multiple Lists\n",
        "\n",
        "Python provides elegant ways to iterate over multiple sequences in parallel.\n",
        "\n",
        "**Manual Indexing with `enumerate()`**: This approach uses `enumerate()` to access both the index and the value, allowing you to manually retrieve corresponding elements from another list."
      ]
    },
    {
      "cell_type": "code",
      "execution_count": 42,
      "id": "3ef9f4b8",
      "metadata": {},
      "outputs": [
        {
          "name": "stdout",
          "output_type": "stream",
          "text": [
            "Peter Parker is actually Spiderman\n",
            "Clark Kent is actually Superman\n",
            "Wade Wilson is actually Deadpool\n",
            "Bruce Wayne is actually Batman\n",
            "Dr. Baek is actually Pirate Captain\n"
          ]
        }
      ],
      "source": [
        "heroes = ['Spiderman', 'Superman', 'Deadpool', 'Batman', 'Pirate Captain']\n",
        "for index, name in enumerate(names):\n",
        "    hero = heroes[index]\n",
        "    print(f'{name} is actually {hero}')"
      ]
    },
    {
      "cell_type": "markdown",
      "id": "3653186f",
      "metadata": {},
      "source": [
        "**Using `zip()` for Parallel Iteration**: `zip()` pairs elements from multiple lists, making the code cleaner and more readable when iterating through them together."
      ]
    },
    {
      "cell_type": "code",
      "execution_count": 43,
      "id": "ba8eb29b",
      "metadata": {},
      "outputs": [
        {
          "name": "stdout",
          "output_type": "stream",
          "text": [
            "Peter Parker is actually Spiderman\n",
            "Clark Kent is actually Superman\n",
            "Wade Wilson is actually Deadpool\n",
            "Bruce Wayne is actually Batman\n",
            "Dr. Baek is actually Pirate Captain\n"
          ]
        }
      ],
      "source": [
        "for name, hero in zip(names, heroes):\n",
        "    print(f'{name} is actually {hero}')"
      ]
    },
    {
      "cell_type": "markdown",
      "id": "227a0464",
      "metadata": {},
      "source": [
        "**Extending `zip()` to More Than Two Lists**: You can use `zip()` with three or more lists to combine related data from multiple sources in a single loop."
      ]
    },
    {
      "cell_type": "code",
      "execution_count": 44,
      "id": "abe63ca0",
      "metadata": {},
      "outputs": [
        {
          "name": "stdout",
          "output_type": "stream",
          "text": [
            "Peter Parker is actually Spiderman from Marvel\n",
            "Clark Kent is actually Superman from DC\n",
            "Wade Wilson is actually Deadpool from Marvel\n",
            "Bruce Wayne is actually Batman from DC\n",
            "Dr. Baek is actually Pirate Captain from USAFA\n"
          ]
        }
      ],
      "source": [
        "universes = ['Marvel', 'DC', 'Marvel', 'DC', 'USAFA']\n",
        "for name, hero, universe in zip(names, heroes, universes):\n",
        "    print(f'{name} is actually {hero} from {universe}')"
      ]
    },
    {
      "cell_type": "markdown",
      "id": "8b600700",
      "metadata": {},
      "source": [
        "### Idiomatic tools: `enumerate`, `zip`, unpacking, sorting with `key=`, lambdas, `map`/`filter`/`reduce`"
      ]
    },
    {
      "cell_type": "code",
      "execution_count": 45,
      "id": "63401381",
      "metadata": {},
      "outputs": [
        {
          "name": "stdout",
          "output_type": "stream",
          "text": [
            "first: 1 10\n",
            "[('Ana', 92), ('Bo', 90), ('Cat', 88)]\n",
            "1 [2, 3, 4] 5\n",
            "[('Bo', 95), ('Ana', 92), ('Bo', 90), ('Cat', 88)]\n",
            "[2, 4, 6, 8] [2, 4] 24\n"
          ]
        }
      ],
      "source": [
        "# enumerate\n",
        "for i, value in enumerate([10, 20, 30], start=1):\n",
        "    if i == 1:\n",
        "        print(\"first:\", i, value)\n",
        "        break\n",
        "\n",
        "# zip\n",
        "names = [\"Ana\", \"Bo\", \"Cat\"]\n",
        "grades = [92, 90, 88]\n",
        "print(list(zip(names, grades)))\n",
        "\n",
        "# unpacking\n",
        "first, *middle, last = [1,2,3,4,5]\n",
        "print(first, middle, last)\n",
        "\n",
        "# sorting with key\n",
        "from operator import itemgetter\n",
        "students = [(\"Ana\", 92), (\"Bo\", 90), (\"Cat\", 88), (\"Bo\", 95)]\n",
        "print(sorted(students, key=itemgetter(1), reverse=True))  # by grade desc\n",
        "\n",
        "# map / filter / reduce\n",
        "from functools import reduce\n",
        "\n",
        "data = [1,2,3,4]\n",
        "doubles = list(map(lambda x: 2*x, data))\n",
        "evens   = list(filter(lambda x: x % 2 == 0, data))\n",
        "prod    = reduce(lambda a,b: a*b, data, 1)\n",
        "print(doubles, evens, prod)"
      ]
    },
    {
      "cell_type": "markdown",
      "id": "89ba0613",
      "metadata": {},
      "source": [
        "### Exercise B (3–4 min)\n",
        "1) Dict comprehension mapping names to lengths for `names = [\"Ana\",\"Bo\",\"Cat\"]`.  \n",
        "2) Use `Counter` to tally words in `\"to be or not to be\"`.  \n",
        "3) Sort `students` by descending grade, breaking ties by name.\n",
        "\n",
        "*Type your answers below.*"
      ]
    },
    {
      "cell_type": "markdown",
      "id": "3dbfb519",
      "metadata": {},
      "source": [
        "## 3) Mini‑Project Datasets (provided)\n",
        "This cell creates two small CSV files in your environment and also loads them into memory structures you can use directly.\n",
        "- **grades.csv** — columns: `name,exam1,exam2,exam3`\n",
        "- **sensor.csv** — columns: `t,x,y,z` (synthetic 10 Hz accelerometer)"
      ]
    },
    {
      "cell_type": "markdown",
      "id": "f631e027",
      "metadata": {},
      "source": [
        "## 3A) Mini‑Project — Student Grades (10–12 min)\n",
        "Use lists, dicts, comprehensions, `Counter`, and optionally `dataclass`.\n",
        "\n",
        "**Tasks**\n",
        "1) Build `avg_by_student: name -> average` from `grade_records`.  \n",
        "2) Find **top‑2** students by average (use `sorted(..., key=..., reverse=True)`).  \n",
        "3) Create a **letter‑grade** function and produce a **distribution** using `Counter`.  \n",
        "4) *(Stretch)* Use a `@dataclass` for `Student(name, scores)` and re‑implement 1–3."
      ]
    },
    {
      "cell_type": "code",
      "execution_count": 46,
      "id": "4ca7a759",
      "metadata": {},
      "outputs": [
        {
          "name": "stdout",
          "output_type": "stream",
          "text": [
            "avg_by_student: Ellipsis\n",
            "top2: Ellipsis\n",
            "distribution: Ellipsis\n"
          ]
        }
      ],
      "source": [
        "from statistics import mean\n",
        "from collections import Counter\n",
        "\n",
        "# 1) average by student\n",
        "avg_by_student = ...\n",
        "\n",
        "# 2) top-2\n",
        "top2 = ...\n",
        "\n",
        "# 3) letter grade distribution\n",
        "\n",
        "def letter(avg: float) -> str:\n",
        "    return (\n",
        "        \"A\" if avg >= 90 else\n",
        "        \"B\" if avg >= 80 else\n",
        "        \"C\" if avg >= 70 else\n",
        "        \"D\" if avg >= 60 else\n",
        "        \"F\"\n",
        "    )\n",
        "\n",
        "dist = ...\n",
        "\n",
        "print(\"avg_by_student:\", avg_by_student)\n",
        "print(\"top2:\", top2)\n",
        "print(\"distribution:\", dist)"
      ]
    },
    {
      "cell_type": "markdown",
      "id": "16a9d58d",
      "metadata": {},
      "source": [
        "## 4. Wrap‑up (5 min)\n",
        "**Takeaways**\n",
        "- Choose the right container: list/tuple/set/dict.\n",
        "- Prefer comprehensions, `enumerate`, `zip`, and `key=` sorts for readability.\n",
        "\n",
        "**Further reading**\n",
        "- Python Tutorial — Data Structures (lists, dicts, sets, comprehensions): https://docs.python.org/3/tutorial/datastructures.html\n",
        "- `collections` (Counter, defaultdict, namedtuple): https://docs.python.org/3/library/collections.html\n",
        "- Built‑ins (`enumerate`, `zip`, `map`, `filter`) & `functools.reduce`: https://docs.python.org/3/library/functions.html , https://docs.python.org/3/library/functools.html"
      ]
    }
  ],
  "metadata": {
    "kernelspec": {
      "display_name": ".venv",
      "language": "python",
      "name": "python3"
    },
    "language_info": {
      "codemirror_mode": {
        "name": "ipython",
        "version": 3
      },
      "file_extension": ".py",
      "mimetype": "text/x-python",
      "name": "python",
      "nbconvert_exporter": "python",
      "pygments_lexer": "ipython3",
      "version": "3.12.9"
    }
  },
  "nbformat": 4,
  "nbformat_minor": 5
}
